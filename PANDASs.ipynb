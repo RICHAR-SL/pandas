{
  "nbformat": 4,
  "nbformat_minor": 0,
  "metadata": {
    "colab": {
      "provenance": [],
      "include_colab_link": true
    },
    "kernelspec": {
      "name": "python3",
      "display_name": "Python 3"
    },
    "language_info": {
      "name": "python"
    }
  },
  "cells": [
    {
      "cell_type": "markdown",
      "metadata": {
        "id": "view-in-github",
        "colab_type": "text"
      },
      "source": [
        "<a href=\"https://colab.research.google.com/github/RICHAR-SL/pandas/blob/main/PANDASs.ipynb\" target=\"_parent\"><img src=\"https://colab.research.google.com/assets/colab-badge.svg\" alt=\"Open In Colab\"/></a>"
      ]
    },
    {
      "cell_type": "code",
      "source": [
        "import pandas as pd\n",
        "import numpy as np"
      ],
      "metadata": {
        "id": "8zFwHOzhoovx"
      },
      "execution_count": 16,
      "outputs": []
    },
    {
      "cell_type": "markdown",
      "source": [
        "Escribir un programa que pregunte al usuario por las ventas de un rango de años y muestre por\n",
        "pantalla una serie con los datos de las ventas indexada por los años, antes y después de aplicarles\n",
        "un descuento del 10%."
      ],
      "metadata": {
        "id": "cAcFyWA8mdmA"
      }
    },
    {
      "cell_type": "code",
      "execution_count": 2,
      "metadata": {
        "id": "G3vdRQq2Poad",
        "collapsed": true,
        "outputId": "c500e86f-1d4b-4575-cc34-a9a3428c69b2",
        "colab": {
          "base_uri": "https://localhost:8080/",
          "height": 373
        }
      },
      "outputs": [
        {
          "output_type": "error",
          "ename": "KeyboardInterrupt",
          "evalue": "Interrupted by user",
          "traceback": [
            "\u001b[0;31m---------------------------------------------------------------------------\u001b[0m",
            "\u001b[0;31mKeyboardInterrupt\u001b[0m                         Traceback (most recent call last)",
            "\u001b[0;32m/tmp/ipython-input-2-899354117.py\u001b[0m in \u001b[0;36m<cell line: 0>\u001b[0;34m()\u001b[0m\n\u001b[0;32m----> 1\u001b[0;31m \u001b[0minicio\u001b[0m \u001b[0;34m=\u001b[0m \u001b[0mint\u001b[0m\u001b[0;34m(\u001b[0m\u001b[0minput\u001b[0m\u001b[0;34m(\u001b[0m\u001b[0;34m\"Año de inicio: \"\u001b[0m\u001b[0;34m)\u001b[0m\u001b[0;34m)\u001b[0m\u001b[0;34m\u001b[0m\u001b[0;34m\u001b[0m\u001b[0m\n\u001b[0m\u001b[1;32m      2\u001b[0m \u001b[0mfin\u001b[0m \u001b[0;34m=\u001b[0m \u001b[0mint\u001b[0m\u001b[0;34m(\u001b[0m\u001b[0minput\u001b[0m\u001b[0;34m(\u001b[0m\u001b[0;34m\"Año final: \"\u001b[0m\u001b[0;34m)\u001b[0m\u001b[0;34m)\u001b[0m\u001b[0;34m\u001b[0m\u001b[0;34m\u001b[0m\u001b[0m\n\u001b[1;32m      3\u001b[0m \u001b[0mventas\u001b[0m \u001b[0;34m=\u001b[0m \u001b[0;34m{\u001b[0m\u001b[0;34m}\u001b[0m\u001b[0;34m\u001b[0m\u001b[0;34m\u001b[0m\u001b[0m\n\u001b[1;32m      4\u001b[0m \u001b[0;34m\u001b[0m\u001b[0m\n\u001b[1;32m      5\u001b[0m \u001b[0;32mfor\u001b[0m \u001b[0maño\u001b[0m \u001b[0;32min\u001b[0m \u001b[0mrange\u001b[0m\u001b[0;34m(\u001b[0m\u001b[0minicio\u001b[0m\u001b[0;34m,\u001b[0m \u001b[0mfin\u001b[0m \u001b[0;34m+\u001b[0m \u001b[0;36m1\u001b[0m\u001b[0;34m)\u001b[0m\u001b[0;34m:\u001b[0m\u001b[0;34m\u001b[0m\u001b[0;34m\u001b[0m\u001b[0m\n",
            "\u001b[0;32m/usr/local/lib/python3.11/dist-packages/ipykernel/kernelbase.py\u001b[0m in \u001b[0;36mraw_input\u001b[0;34m(self, prompt)\u001b[0m\n\u001b[1;32m   1175\u001b[0m                 \u001b[0;34m\"raw_input was called, but this frontend does not support input requests.\"\u001b[0m\u001b[0;34m\u001b[0m\u001b[0;34m\u001b[0m\u001b[0m\n\u001b[1;32m   1176\u001b[0m             )\n\u001b[0;32m-> 1177\u001b[0;31m         return self._input_request(\n\u001b[0m\u001b[1;32m   1178\u001b[0m             \u001b[0mstr\u001b[0m\u001b[0;34m(\u001b[0m\u001b[0mprompt\u001b[0m\u001b[0;34m)\u001b[0m\u001b[0;34m,\u001b[0m\u001b[0;34m\u001b[0m\u001b[0;34m\u001b[0m\u001b[0m\n\u001b[1;32m   1179\u001b[0m             \u001b[0mself\u001b[0m\u001b[0;34m.\u001b[0m\u001b[0m_parent_ident\u001b[0m\u001b[0;34m[\u001b[0m\u001b[0;34m\"shell\"\u001b[0m\u001b[0;34m]\u001b[0m\u001b[0;34m,\u001b[0m\u001b[0;34m\u001b[0m\u001b[0;34m\u001b[0m\u001b[0m\n",
            "\u001b[0;32m/usr/local/lib/python3.11/dist-packages/ipykernel/kernelbase.py\u001b[0m in \u001b[0;36m_input_request\u001b[0;34m(self, prompt, ident, parent, password)\u001b[0m\n\u001b[1;32m   1217\u001b[0m             \u001b[0;32mexcept\u001b[0m \u001b[0mKeyboardInterrupt\u001b[0m\u001b[0;34m:\u001b[0m\u001b[0;34m\u001b[0m\u001b[0;34m\u001b[0m\u001b[0m\n\u001b[1;32m   1218\u001b[0m                 \u001b[0;31m# re-raise KeyboardInterrupt, to truncate traceback\u001b[0m\u001b[0;34m\u001b[0m\u001b[0;34m\u001b[0m\u001b[0m\n\u001b[0;32m-> 1219\u001b[0;31m                 \u001b[0;32mraise\u001b[0m \u001b[0mKeyboardInterrupt\u001b[0m\u001b[0;34m(\u001b[0m\u001b[0;34m\"Interrupted by user\"\u001b[0m\u001b[0;34m)\u001b[0m \u001b[0;32mfrom\u001b[0m \u001b[0;32mNone\u001b[0m\u001b[0;34m\u001b[0m\u001b[0;34m\u001b[0m\u001b[0m\n\u001b[0m\u001b[1;32m   1220\u001b[0m             \u001b[0;32mexcept\u001b[0m \u001b[0mException\u001b[0m\u001b[0;34m:\u001b[0m\u001b[0;34m\u001b[0m\u001b[0;34m\u001b[0m\u001b[0m\n\u001b[1;32m   1221\u001b[0m                 \u001b[0mself\u001b[0m\u001b[0;34m.\u001b[0m\u001b[0mlog\u001b[0m\u001b[0;34m.\u001b[0m\u001b[0mwarning\u001b[0m\u001b[0;34m(\u001b[0m\u001b[0;34m\"Invalid Message:\"\u001b[0m\u001b[0;34m,\u001b[0m \u001b[0mexc_info\u001b[0m\u001b[0;34m=\u001b[0m\u001b[0;32mTrue\u001b[0m\u001b[0;34m)\u001b[0m\u001b[0;34m\u001b[0m\u001b[0;34m\u001b[0m\u001b[0m\n",
            "\u001b[0;31mKeyboardInterrupt\u001b[0m: Interrupted by user"
          ]
        }
      ],
      "source": [
        "inicio = int(input(\"Año de inicio: \"))\n",
        "fin = int(input(\"Año final: \"))\n",
        "ventas = {}\n",
        "\n",
        "for año in range(inicio, fin + 1):\n",
        "    ventas[año] = float(input(f\"Ventas en {año}: \"))\n",
        "\n",
        "serie_ventas = pd.Series(ventas)\n",
        "serie_descuento = serie_ventas * 0.9\n",
        "\n",
        "print(\"Ventas normales:\")\n",
        "print(serie_ventas)\n",
        "print(\"\\nVentas con 10% de descuento:\")\n",
        "print(serie_descuento)\n"
      ]
    },
    {
      "cell_type": "markdown",
      "source": [
        "Ejercicio 2\n",
        "Escribir una función que reciba un diccionario con las notas de los alumnos de un curso y devuelva\n",
        "una serie con la nota mínima, la máxima, media y la desviación típica"
      ],
      "metadata": {
        "id": "u4S3GAslmfZu"
      }
    },
    {
      "cell_type": "code",
      "source": [
        "# Solicitar nombre del curso\n",
        "curso = input(\"Ingrese el nombre del curso: \")\n",
        "\n",
        "# Crear diccionario de notas\n",
        "notas = {}\n",
        "print(\"Ingrese las notas de los alumnos (deje el nombre vacío para terminar):\")\n",
        "\n",
        "while True:\n",
        "    nombre = input(\"Nombre del alumno: \")\n",
        "    if nombre == \"\":\n",
        "        break\n",
        "    try:\n",
        "        nota = float(input(f\"Nota de {nombre}: \"))\n",
        "        notas[nombre] = nota\n",
        "    except ValueError:\n",
        "        print(\"Por favor, ingrese una nota válida (número).\")\n",
        "\n",
        "# Convertir diccionario a Serie de pandas\n",
        "serie_notas = pd.Series(notas)\n",
        "\n",
        "# Calcular estadísticas del curso\n",
        "print(f\"\\nEstadísticas del curso {curso}:\")\n",
        "print(f\"Nota mínima: {serie_notas.min():.2f}\")\n",
        "print(f\"Nota máxima: {serie_notas.max():.2f}\")\n",
        "print(f\"Nota media: {serie_notas.mean():.2f}\")\n",
        "print(f\"Desviación típica: {serie_notas.std():.2f}\")\n",
        "\n"
      ],
      "metadata": {
        "id": "DEwUzcs2oAAl"
      },
      "execution_count": null,
      "outputs": []
    },
    {
      "cell_type": "markdown",
      "source": [
        "Ejercicio 3\n",
        "Escribir una función que reciba un diccionario con las notas de los alumnos de un curso y devuelva\n",
        "una serie con las notas de los alumnos aprobados ordenadas de mayor a menor."
      ],
      "metadata": {
        "id": "bIZfCEo2nkMu"
      }
    },
    {
      "cell_type": "code",
      "source": [
        "\n",
        "# Función que devuelve las notas aprobadas ordenadas de mayor a menor\n",
        "def notas_aprobados(dic_notas):\n",
        "    serie = pd.Series(dic_notas)\n",
        "    aprobados = serie[serie >= 10.5].sort_values(ascending=False)\n",
        "    return aprobados\n",
        "\n",
        "# Solicitar nombre del curso\n",
        "curso = input(\"Ingrese el nombre del curso: \")\n",
        "\n",
        "# Crear diccionario de notas\n",
        "notas = {}\n",
        "print(\"Ingrese las notas de los alumnos (deje el nombre vacío para terminar):\")\n",
        "\n",
        "while True:\n",
        "    nombre = input(\"Nombre del alumno: \")\n",
        "    if nombre == \"\":\n",
        "        break\n",
        "    try:\n",
        "        nota = float(input(f\"Nota de {nombre}: \"))\n",
        "        notas[nombre] = nota\n",
        "    except ValueError:\n",
        "        print(\"Por favor, ingrese una nota válida (número).\")\n",
        "\n",
        "# Convertir diccionario a Serie de pandas\n",
        "serie_notas = pd.Series(notas)\n",
        "# Mostrar notas de alumnos aprobados\n",
        "print(f\"\\nAlumnos aprobados en {curso} (ordenados de mayor a menor):\")\n",
        "print(notas_aprobados(notas))\n",
        "\n"
      ],
      "metadata": {
        "id": "TQw2V8Hpn_oe"
      },
      "execution_count": null,
      "outputs": []
    },
    {
      "cell_type": "markdown",
      "source": [
        "Ejercicio 4\n",
        "Escribir programa que genere y muestre por pantalla un DataFrame con los datos de la tabla\n",
        "siguiente:\n",
        "Mes Ventas Gastos\n",
        "Enero 30500 22000\n",
        "Febrero35600 23400\n",
        "Marzo 28300 18100\n",
        "Abril 33900 20700\n"
      ],
      "metadata": {
        "id": "U3AVRemqnzCm"
      }
    },
    {
      "cell_type": "code",
      "source": [
        "\n",
        "\n",
        "datos = {\n",
        "    \"Mes\": [\"Enero\", \"Febrero\", \"Marzo\", \"Abril\"],\n",
        "    \"Ventas\": [30500, 35600, 28300, 33900],\n",
        "    \"Gastos\": [22000, 23400, 18100, 20700]\n",
        "}\n",
        "\n",
        "df = pd.DataFrame(datos)\n",
        "print(df)\n"
      ],
      "metadata": {
        "id": "4jjFEEAtn_Wm"
      },
      "execution_count": null,
      "outputs": []
    },
    {
      "cell_type": "markdown",
      "source": [
        "Ejercicio 5\n",
        "Escribir una función que reciba un DataFrame con el formato del ejercicio anterior, una lista de\n",
        "meses, y devuelva el balance (ventas - gastos) total en los meses indicados.\n"
      ],
      "metadata": {
        "id": "dt7bqMWAn1JP"
      }
    },
    {
      "cell_type": "code",
      "source": [
        "def balance_mensual(df, meses):\n",
        "    df_filtrado = df[df[\"Mes\"].isin(meses)]\n",
        "    return (df_filtrado[\"Ventas\"] - df_filtrado[\"Gastos\"]).sum()\n",
        "\n",
        "# Ejemplo\n",
        "meses = [\"Enero\", \"Abril\"]\n",
        "print(\"Balance:\", balance_mensual(df, meses))\n"
      ],
      "metadata": {
        "id": "9XCwgOiqn-5H"
      },
      "execution_count": null,
      "outputs": []
    },
    {
      "cell_type": "markdown",
      "source": [
        "Ejercicio 6\n",
        "El fichero cotizacion.csv contiene las cotizaciones de las empresas del IBEX35 con las siguientes\n",
        "columnas: nombre (nombre de la empresa), Final (precio de la acción al cierre de bolsa), Máximo\n",
        "(precio máximo de la acción durante la jornada), Mínimo (precio mínimo de la acción durante la\n",
        "jornada), volumen (Volumen al cierre de bolsa), Efectivo (capitalización al cierre en miles de euros).\n",
        "Construir una función que construya un DataFrame a partir del un fichero con el formato anterior y\n",
        "devuelva otro DataFrame con el mínimo, el máximo y la media de dada columna."
      ],
      "metadata": {
        "id": "a1rOFeQzn3A_"
      }
    },
    {
      "cell_type": "code",
      "source": [
        "# Función que lee el archivo y calcula min, max y media de una columna\n",
        "def resumen_columna(archivo, columna):\n",
        "    df = pd.read_csv(archivo, sep=';')  # <-- Esto es clave\n",
        "\n",
        "    # Eliminar espacios en nombres de columnas si los hay\n",
        "    df.columns = df.columns.str.strip()\n",
        "\n",
        "    if columna in df.columns:\n",
        "        resumen = {\n",
        "            'Minimo': df[columna].min(),\n",
        "            'Maximo': df[columna].max(),\n",
        "            'Media': df[columna].mean()\n",
        "        }\n",
        "        return pd.DataFrame([resumen])\n",
        "# Parámetros\n",
        "archivo = \"/content/cotizacion.csv\"\n",
        "columna = 'Maximo'  # Usa el nombre exacto de la columna (con tilde si la tiene)\n",
        "\n",
        "# Obtener y mostrar resultado\n",
        "resultado = resumen_columna(archivo, columna)\n",
        "print(f\"Resumen de la columna '{columna}':\")\n",
        "print(resultado)\n",
        "\n",
        "\n",
        "\n",
        "\n",
        "\n"
      ],
      "metadata": {
        "id": "V23Jhko3n-c_"
      },
      "execution_count": null,
      "outputs": []
    },
    {
      "cell_type": "markdown",
      "source": [
        "Ejercicio 7\n",
        "El fichero titanic.csv contiene información sobre los pasajeros del Titanic. Escribir un programa con\n",
        "los siguientes requisitos:\n",
        "Generar un DataFrame con los datos del fichero.\n",
        "Mostrar por pantalla las dimensiones del DataFrame, el número de datos que contiene, los nombres\n",
        "de sus columnas y filas, los tipos de datos de las columnas, las 10 primeras filas y las 10 últimas filas\n",
        "Mostrar por pantalla los datos del pasajero con identificador 148.\n",
        "Mostrar por pantalla las filas pares del DataFrame.\n",
        "Mostrar por pantalla los nombres de las personas que iban en primera clase ordenadas\n",
        "alfabéticamente.\n",
        "Mostrar por pantalla el porcentaje de personas que sobrevivieron y murieron.\n",
        "Mostrar por pantalla el porcentaje de personas que sobrevivieron en cada clase.\n",
        "Eliminar del DataFrame los pasajeros con edad desconocida.\n",
        "Mostrar por pantalla la edad media de las mujeres que viajaban en cada clase.\n",
        "Añadir una nueva columna booleana para ver si el pasajero era menor de edad o no.\n",
        "Mostrar por pantalla el porcentaje de menores y mayores de edad que sobrevivieron en cada clase."
      ],
      "metadata": {
        "id": "1IQ3bPean4qW"
      }
    },
    {
      "cell_type": "code",
      "source": [
        "import pandas as pd\n",
        "\n",
        "df = pd.read_csv(\"titanic.csv\", sep=';')\n",
        "\n",
        "# Información general\n",
        "print(\"Dimensiones: \", df.shape)\n",
        "print(\"Cantidad de datos: \", df.size)\n",
        "print(\"Columnas: \", df.columns.tolist())\n",
        "print(\"Índices: \", df.index.tolist()[:10])\n",
        "print(\"Tipos de datos:\\n \", df.dtypes)\n",
        "print(\"\\n\\nPrimeras 10 filas:\\n \", df.head(10))\n",
        "print(\"\\n\\nÚltimas 10 filas:\\n \", df.tail(10))\n",
        "\n",
        "# Pasajero con ID 148\n",
        "if 148 in df.index:\n",
        "    pasajero_148 = df[df['Id Pasajero'] == 148]\n",
        "    print(\"Pasajero con ID 148:\\n\", pasajero_148)\n",
        "\n",
        "else:\n",
        "    print(\"No hay pasajero con índice 148.\")\n",
        "\n",
        "# Filas pares\n",
        "print(\"Filas pares:\\n\", df.iloc[::2])\n",
        "\n",
        "# Nombres de personas en 1ra clase ordenados alfabéticamente\n",
        "primera_clase = df[df['ClaseP'] == 1]['Nombre'].sort_values()\n",
        "print(\"\\nPrimera clase ordenado:\\n\", primera_clase)\n",
        "\n",
        "# Porcentaje de sobrevivientes y muertos\n",
        "sobrevivientes = df['Sobrevivió'].value_counts(normalize=True) * 100\n",
        "print(\"\\n\\nPorcentaje de sobrevivientes/muertos:\")\n",
        "print(\"Muertos: {:.2f}%\".format(sobrevivientes[0]))\n",
        "print(\"Sobrevivientes: {:.2f}%\".format(sobrevivientes[1]))\n",
        "\n",
        "# Supervivientes por clase\n",
        "supervivientes_por_clase = df.groupby('ClaseP')['Sobrevivió'].mean() * 100\n",
        "\n",
        "print(\"\\nSupervivientes por clase:\")\n",
        "for clase, porcentaje in supervivientes_por_clase.items():\n",
        "    print(f\"Clase {clase}: {porcentaje:.2f}%\")\n",
        "\n",
        "# Eliminar pasajeros sin edad\n",
        "df = df[df['Edad'].notna()].copy()\n",
        "\n",
        "print(\"\\nEdad media de mujeres por clase:\")\n",
        "print(df[df['Sexo'] == 'female'].groupby('ClaseP')['Edad'].mean().round(2))\n",
        "\n",
        "\n",
        "# Nueva columna: ¿menor de edad?\n",
        "df['Menor'] = df['Edad'] < 18\n",
        "\n",
        "# Supervivencia por clase y edad\n",
        "print(\"\\n\\nSupervivencia por clase y edad:\\n\", df.groupby(['ClaseP', 'Menor'])['Sobrevivió'].mean() * 100)\n"
      ],
      "metadata": {
        "id": "OkU4cAzIn9_2",
        "outputId": "a1483034-c51c-4a93-81e2-1486b857c3fc",
        "colab": {
          "base_uri": "https://localhost:8080/"
        },
        "collapsed": true
      },
      "execution_count": 41,
      "outputs": [
        {
          "output_type": "stream",
          "name": "stdout",
          "text": [
            "Dimensiones:  (891, 12)\n",
            "Cantidad de datos:  10692\n",
            "Columnas:  ['Id Pasajero', 'Sobrevivió', 'ClaseP', 'Nombre', 'Sexo', 'Edad', 'SibSp', 'Parch', 'Boleto', 'Tarifa', 'Cabina', 'Embarcado']\n",
            "Índices:  [0, 1, 2, 3, 4, 5, 6, 7, 8, 9]\n",
            "Tipos de datos:\n",
            "  Id Pasajero      int64\n",
            "Sobrevivió       int64\n",
            "ClaseP           int64\n",
            "Nombre          object\n",
            "Sexo            object\n",
            "Edad           float64\n",
            "SibSp            int64\n",
            "Parch            int64\n",
            "Boleto          object\n",
            "Tarifa         float64\n",
            "Cabina          object\n",
            "Embarcado       object\n",
            "dtype: object\n",
            "\n",
            "\n",
            "Primeras 10 filas:\n",
            "     Id Pasajero  Sobrevivió  ClaseP  \\\n",
            "0            1           0       3   \n",
            "1            2           1       1   \n",
            "2            3           1       3   \n",
            "3            4           1       1   \n",
            "4            5           0       3   \n",
            "5            6           0       3   \n",
            "6            7           0       1   \n",
            "7            8           0       3   \n",
            "8            9           1       3   \n",
            "9           10           1       2   \n",
            "\n",
            "                                              Nombre    Sexo  Edad  SibSp  \\\n",
            "0                            Braund, Mr. Owen Harris    male  22.0      1   \n",
            "1  Cumings, Mrs. John Bradley (Florence Briggs Th...  female  38.0      1   \n",
            "2                             Heikkinen, Miss. Laina  female  26.0      0   \n",
            "3       Futrelle, Mrs. Jacques Heath (Lily May Peel)  female  35.0      1   \n",
            "4                           Allen, Mr. William Henry    male  35.0      0   \n",
            "5                                   Moran, Mr. James    male   NaN      0   \n",
            "6                            McCarthy, Mr. Timothy J    male  54.0      0   \n",
            "7                     Palsson, Master. Gosta Leonard    male   2.0      3   \n",
            "8  Johnson, Mrs. Oscar W (Elisabeth Vilhelmina Berg)  female  27.0      0   \n",
            "9                Nasser, Mrs. Nicholas (Adele Achem)  female  14.0      1   \n",
            "\n",
            "   Parch            Boleto   Tarifa Cabina Embarcado  \n",
            "0      0         A/5 21171   7.2500    NaN         S  \n",
            "1      0          PC 17599  71.2833    C85         C  \n",
            "2      0  STON/O2. 3101282   7.9250    NaN         S  \n",
            "3      0            113803  53.1000   C123         S  \n",
            "4      0            373450   8.0500    NaN         S  \n",
            "5      0            330877   8.4583    NaN         Q  \n",
            "6      0             17463  51.8625    E46         S  \n",
            "7      1            349909  21.0750    NaN         S  \n",
            "8      2            347742  11.1333    NaN         S  \n",
            "9      0            237736  30.0708    NaN         C  \n",
            "\n",
            "\n",
            "Últimas 10 filas:\n",
            "       Id Pasajero  Sobrevivió  ClaseP  \\\n",
            "881          882           0       3   \n",
            "882          883           0       3   \n",
            "883          884           0       2   \n",
            "884          885           0       3   \n",
            "885          886           0       3   \n",
            "886          887           0       2   \n",
            "887          888           1       1   \n",
            "888          889           0       3   \n",
            "889          890           1       1   \n",
            "890          891           0       3   \n",
            "\n",
            "                                       Nombre    Sexo  Edad  SibSp  Parch  \\\n",
            "881                        Markun, Mr. Johann    male  33.0      0      0   \n",
            "882              Dahlberg, Miss. Gerda Ulrika  female  22.0      0      0   \n",
            "883             Banfield, Mr. Frederick James    male  28.0      0      0   \n",
            "884                    Sutehall, Mr. Henry Jr    male  25.0      0      0   \n",
            "885      Rice, Mrs. William (Margaret Norton)  female  39.0      0      5   \n",
            "886                     Montvila, Rev. Juozas    male  27.0      0      0   \n",
            "887              Graham, Miss. Margaret Edith  female  19.0      0      0   \n",
            "888  Johnston, Miss. Catherine Helen \"Carrie\"  female   NaN      1      2   \n",
            "889                     Behr, Mr. Karl Howell    male  26.0      0      0   \n",
            "890                       Dooley, Mr. Patrick    male  32.0      0      0   \n",
            "\n",
            "               Boleto   Tarifa Cabina Embarcado  \n",
            "881            349257   7.8958    NaN         S  \n",
            "882              7552  10.5167    NaN         S  \n",
            "883  C.A./SOTON 34068  10.5000    NaN         S  \n",
            "884   SOTON/OQ 392076   7.0500    NaN         S  \n",
            "885            382652  29.1250    NaN         Q  \n",
            "886            211536  13.0000    NaN         S  \n",
            "887            112053  30.0000    B42         S  \n",
            "888        W./C. 6607  23.4500    NaN         S  \n",
            "889            111369  30.0000   C148         C  \n",
            "890            370376   7.7500    NaN         Q  \n",
            "Pasajero con ID 148:\n",
            "      Id Pasajero  Sobrevivió  ClaseP                            Nombre  \\\n",
            "147          148           0       3  Ford, Miss. Robina Maggie \"Ruby\"   \n",
            "\n",
            "       Sexo  Edad  SibSp  Parch      Boleto  Tarifa Cabina Embarcado  \n",
            "147  female   9.0      2      2  W./C. 6608  34.375    NaN         S  \n",
            "Filas pares:\n",
            "      Id Pasajero  Sobrevivió  ClaseP  \\\n",
            "0              1           0       3   \n",
            "2              3           1       3   \n",
            "4              5           0       3   \n",
            "6              7           0       1   \n",
            "8              9           1       3   \n",
            "..           ...         ...     ...   \n",
            "882          883           0       3   \n",
            "884          885           0       3   \n",
            "886          887           0       2   \n",
            "888          889           0       3   \n",
            "890          891           0       3   \n",
            "\n",
            "                                                Nombre    Sexo  Edad  SibSp  \\\n",
            "0                              Braund, Mr. Owen Harris    male  22.0      1   \n",
            "2                               Heikkinen, Miss. Laina  female  26.0      0   \n",
            "4                             Allen, Mr. William Henry    male  35.0      0   \n",
            "6                              McCarthy, Mr. Timothy J    male  54.0      0   \n",
            "8    Johnson, Mrs. Oscar W (Elisabeth Vilhelmina Berg)  female  27.0      0   \n",
            "..                                                 ...     ...   ...    ...   \n",
            "882                       Dahlberg, Miss. Gerda Ulrika  female  22.0      0   \n",
            "884                             Sutehall, Mr. Henry Jr    male  25.0      0   \n",
            "886                              Montvila, Rev. Juozas    male  27.0      0   \n",
            "888           Johnston, Miss. Catherine Helen \"Carrie\"  female   NaN      1   \n",
            "890                                Dooley, Mr. Patrick    male  32.0      0   \n",
            "\n",
            "     Parch            Boleto   Tarifa Cabina Embarcado  \n",
            "0        0         A/5 21171   7.2500    NaN         S  \n",
            "2        0  STON/O2. 3101282   7.9250    NaN         S  \n",
            "4        0            373450   8.0500    NaN         S  \n",
            "6        0             17463  51.8625    E46         S  \n",
            "8        2            347742  11.1333    NaN         S  \n",
            "..     ...               ...      ...    ...       ...  \n",
            "882      0              7552  10.5167    NaN         S  \n",
            "884      0   SOTON/OQ 392076   7.0500    NaN         S  \n",
            "886      0            211536  13.0000    NaN         S  \n",
            "888      2        W./C. 6607  23.4500    NaN         S  \n",
            "890      0            370376   7.7500    NaN         Q  \n",
            "\n",
            "[446 rows x 12 columns]\n",
            "\n",
            "Primera clase ordenado:\n",
            " 730                      Allen, Miss. Elisabeth Walton\n",
            "305                     Allison, Master. Hudson Trevor\n",
            "297                       Allison, Miss. Helen Loraine\n",
            "498    Allison, Mrs. Hudson J C (Bessie Waldo Daniels)\n",
            "460                                Anderson, Mr. Harry\n",
            "                            ...                       \n",
            "155                        Williams, Mr. Charles Duane\n",
            "351             Williams-Lambert, Mr. Fletcher Fellows\n",
            "55                                   Woolner, Mr. Hugh\n",
            "555                                 Wright, Mr. George\n",
            "325                           Young, Miss. Marie Grice\n",
            "Name: Nombre, Length: 216, dtype: object\n",
            "\n",
            "\n",
            "Porcentaje de sobrevivientes/muertos:\n",
            "Muertos: 61.62%\n",
            "Sobrevivientes: 38.38%\n",
            "\n",
            "Supervivientes por clase:\n",
            "Clase 1: 62.96%\n",
            "Clase 2: 47.28%\n",
            "Clase 3: 24.24%\n",
            "\n",
            "Edad media de mujeres por clase:\n",
            "ClaseP\n",
            "1    34.61\n",
            "2    28.72\n",
            "3    21.75\n",
            "Name: Edad, dtype: float64\n",
            "\n",
            "\n",
            "Supervivencia por clase y edad:\n",
            " ClaseP  Menor\n",
            "1       False    63.793103\n",
            "        True     91.666667\n",
            "2       False    41.333333\n",
            "        True     91.304348\n",
            "3       False    20.216606\n",
            "        True     37.179487\n",
            "Name: Sobrevivió, dtype: float64\n"
          ]
        }
      ]
    },
    {
      "cell_type": "markdown",
      "source": [
        "Ejercicio 8\n",
        "Los ficheros emisiones-2016.csv, emisiones-2017.csv, emisiones-2018.csv y emisiones-2019.csv,\n",
        "contienen datos sobre las emisiones contaminates en la ciudad de Madrid en los años 2016, 2017,\n",
        "2018 y 2019 respectivamente. Escribir un programa con los siguientes requisitos:\n",
        "Generar un DataFrame con los datos de los cuatro ficheros.\n",
        "Filtrar las columnas del DataFrame para quedarse con las columnas ESTACION, MAGNITUD, AÑO,\n",
        "MES y las correspondientes a los días D01, D02, etc.\n",
        "Reestructurar el DataFrame para que los valores de los contaminantes de las columnas de los días\n",
        "aparezcan en una única columna.\n",
        "Añadir una columna con la fecha a partir de la concatenación del año, el mes y el día (usar el módulo\n",
        "datetime).\n",
        "Eliminar las filas con fechas no válidas (utilizar la función isnat del módulo numpy) y ordenar el\n",
        "DataFrame por estaciones contaminantes y fecha.\n",
        "Mostrar por pantalla las estaciones y los contaminantes disponibles en el DataFrame.\n",
        "Crear una función que reciba una estación, un contaminante y un rango de fechas y devuelva una\n",
        "serie con las emisiones del contaminante dado en la estación y rango de fechas dado."
      ],
      "metadata": {
        "id": "pV_dBnrUn7F3"
      }
    },
    {
      "cell_type": "code",
      "source": [
        "import pandas as pd\n",
        "from datetime import datetime\n",
        "\n",
        "#    archivos = [f\"emisiones-{año}.csv\" for año in range(2016, 2020)]\n",
        "#df_union = pd.concat([pd.read_csv(f, sep=';') for f in archivos])\n",
        "\n",
        "#         Guardar la unión en un nuevo CSV\n",
        "#df_union.to_csv('emisiones_completas.csv', index=False, sep=';')\n",
        "def cargar_emisiones():\n",
        "    archivos = [f\"emisiones-{año}.csv\" for año in range(2016, 2020)]\n",
        "    df = pd.concat([pd.read_csv(f, sep=';') for f in archivos])\n",
        "    return df\n",
        "df = cargar_emisiones()\n",
        "print(df)\n",
        "\n",
        "#df_melt = df.melt(\n",
        " #   id_vars=['ESTACION', 'MAGNITUD', 'AÑO', 'MES'],  # columnas que no quieres transformar\n",
        " #   value_vars=dias,                                # columnas que quieres transformar (D01, D02, ...)\n",
        " #   var_name='DIA',                                # nombre que tendrá la columna de días\n",
        " #   value_name='VALOR'                             # nombre que tendrá la columna de valores\n",
        "#)\n",
        "\n",
        "#     # Primero, crea la columna DIA en formato 'D01', 'D02', etc.\n",
        "#df['DIA'] = df['DIA'].apply(lambda x: f'D{str(x).zfill(2)}')\n",
        "# Luego, pivotamos\n",
        "#df_pivot = df.pivot(index=['ESTACION', 'MAGNITUD', 'AÑO', 'MES'], columns='DIA', values='VALOR').reset_index()\n",
        "#print(df_pivot)\n",
        "\n",
        "\n",
        "\n",
        "# Agregar la columna FECHA concatenando año, mes y día\n",
        "df['FECHA'] = pd.to_datetime(dict(year=df['AÑO'], month=df['MES'], day=df['DIA']), errors='coerce')\n",
        "\n",
        "# Ahora elimina filas con fechas inválidas (por ejemplo, 31 de febrero)\n",
        "df = df.dropna(subset=['FECHA'])\n",
        "\n",
        "# Ordenar por estación, contaminante y fecha\n",
        "df = df.sort_values(by=['ESTACION', 'MAGNITUD', 'FECHA'])\n",
        "\n",
        "print(df.head())\n",
        "\n"
      ],
      "metadata": {
        "id": "yiwQamHVn9Kf",
        "outputId": "4a8c61a0-b53f-451b-99c9-e92eba34af6c",
        "colab": {
          "base_uri": "https://localhost:8080/"
        }
      },
      "execution_count": 60,
      "outputs": [
        {
          "output_type": "stream",
          "name": "stdout",
          "text": [
            "    ESTACION MAGNITUD   AÑO  MES  DIA  VALOR\n",
            "0     Centro      NO2  2016    1    1     40\n",
            "1     Centro      NO2  2016    1    2     42\n",
            "2     Centro      NO2  2016    1    3     39\n",
            "3     Centro      NO2  2016    1    4     41\n",
            "4     Centro      NO2  2016    1    5     38\n",
            "..       ...      ...   ...  ...  ...    ...\n",
            "715      Sur     PM10  2019   12    6      1\n",
            "716      Sur     PM10  2019   12    7      1\n",
            "717      Sur     PM10  2019   12    8      1\n",
            "718      Sur     PM10  2019   12    9      1\n",
            "719      Sur     PM10  2019   12   10      1\n",
            "\n",
            "[2845 rows x 6 columns]\n",
            "  ESTACION MAGNITUD   AÑO  MES  DIA  VALOR      FECHA\n",
            "0   Centro      NO2  2016    1    1     40 2016-01-01\n",
            "1   Centro      NO2  2016    1    2     42 2016-01-02\n",
            "2   Centro      NO2  2016    1    3     39 2016-01-03\n",
            "3   Centro      NO2  2016    1    4     41 2016-01-04\n",
            "4   Centro      NO2  2016    1    5     38 2016-01-05\n"
          ]
        }
      ]
    }
  ]
}