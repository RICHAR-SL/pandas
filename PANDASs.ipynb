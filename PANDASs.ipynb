{
  "nbformat": 4,
  "nbformat_minor": 0,
  "metadata": {
    "colab": {
      "provenance": [],
      "include_colab_link": true
    },
    "kernelspec": {
      "name": "python3",
      "display_name": "Python 3"
    },
    "language_info": {
      "name": "python"
    }
  },
  "cells": [
    {
      "cell_type": "markdown",
      "metadata": {
        "id": "view-in-github",
        "colab_type": "text"
      },
      "source": [
        "<a href=\"https://colab.research.google.com/github/RICHAR-SL/pandas/blob/main/PANDASs.ipynb\" target=\"_parent\"><img src=\"https://colab.research.google.com/assets/colab-badge.svg\" alt=\"Open In Colab\"/></a>"
      ]
    },
    {
      "cell_type": "code",
      "source": [
        "import pandas as pd"
      ],
      "metadata": {
        "id": "8zFwHOzhoovx"
      },
      "execution_count": 1,
      "outputs": []
    },
    {
      "cell_type": "markdown",
      "source": [
        "Escribir un programa que pregunte al usuario por las ventas de un rango de años y muestre por\n",
        "pantalla una serie con los datos de las ventas indexada por los años, antes y después de aplicarles\n",
        "un descuento del 10%."
      ],
      "metadata": {
        "id": "cAcFyWA8mdmA"
      }
    },
    {
      "cell_type": "code",
      "execution_count": 2,
      "metadata": {
        "id": "G3vdRQq2Poad",
        "outputId": "e0dca6ee-e3f4-4536-e56c-b4c03fac60ba",
        "colab": {
          "base_uri": "https://localhost:8080/"
        }
      },
      "outputs": [
        {
          "output_type": "stream",
          "name": "stdout",
          "text": [
            "Año de inicio: 2000\n",
            "Año final: 2005\n",
            "Ventas en 2000: 1200\n",
            "Ventas en 2001: 200\n",
            "Ventas en 2002: 100\n",
            "Ventas en 2003: 2500\n",
            "Ventas en 2004: 2500\n",
            "Ventas en 2005: 500\n",
            "Ventas originales:\n",
            "2000    1200.0\n",
            "2001     200.0\n",
            "2002     100.0\n",
            "2003    2500.0\n",
            "2004    2500.0\n",
            "2005     500.0\n",
            "dtype: float64\n",
            "\n",
            "Ventas con 10% de descuento:\n",
            "2000    1080.0\n",
            "2001     180.0\n",
            "2002      90.0\n",
            "2003    2250.0\n",
            "2004    2250.0\n",
            "2005     450.0\n",
            "dtype: float64\n"
          ]
        }
      ],
      "source": [
        "inicio = int(input(\"Año de inicio: \"))\n",
        "fin = int(input(\"Año final: \"))\n",
        "ventas = {}\n",
        "\n",
        "for año in range(inicio, fin + 1):\n",
        "    ventas[año] = float(input(f\"Ventas en {año}: \"))\n",
        "\n",
        "serie_ventas = pd.Series(ventas)\n",
        "serie_descuento = serie_ventas * 0.9\n",
        "\n",
        "print(\"Ventas originales:\")\n",
        "print(serie_ventas)\n",
        "print(\"\\nVentas con 10% de descuento:\")\n",
        "print(serie_descuento)\n"
      ]
    },
    {
      "cell_type": "markdown",
      "source": [
        "Ejercicio 2\n",
        "Escribir una función que reciba un diccionario con las notas de los alumnos de un curso y devuelva\n",
        "una serie con la nota mínima, la máxima, media y la desviación típica"
      ],
      "metadata": {
        "id": "u4S3GAslmfZu"
      }
    },
    {
      "cell_type": "code",
      "source": [
        "import pandas as pd\n",
        "\n",
        "def estadisticas_notas(dic_notas):\n",
        "    serie = pd.Series(dic_notas)\n",
        "    return pd.Series({\n",
        "        'Nota mínima': serie.min(),\n",
        "        'Nota máxima': serie.max(),\n",
        "        'Nota media': serie.mean(),\n",
        "        'Desviación típica': serie.std()\n",
        "    })\n",
        "\n",
        "# Ejemplo\n",
        "notas = {'Ana': 15, 'Luis': 12, 'Carlos': 18, 'Marta': 14}\n",
        "print(estadisticas_notas(notas))\n"
      ],
      "metadata": {
        "id": "DEwUzcs2oAAl"
      },
      "execution_count": null,
      "outputs": []
    },
    {
      "cell_type": "markdown",
      "source": [
        "Ejercicio 3\n",
        "Escribir una función que reciba un diccionario con las notas de los alumnos de un curso y devuelva\n",
        "una serie con las notas de los alumnos aprobados ordenadas de mayor a menor."
      ],
      "metadata": {
        "id": "bIZfCEo2nkMu"
      }
    },
    {
      "cell_type": "code",
      "source": [
        "def aprobados_ordenados(dic_notas):\n",
        "    serie = pd.Series(dic_notas)\n",
        "    aprobados = serie[serie >= 10]\n",
        "    return aprobados.sort_values(ascending=False)\n",
        "\n",
        "# Ejemplo\n",
        "notas = {'Ana': 9, 'Luis': 12, 'Carlos': 18, 'Marta': 14, 'Pedro': 8}\n",
        "print(aprobados_ordenados(notas))\n"
      ],
      "metadata": {
        "id": "TQw2V8Hpn_oe"
      },
      "execution_count": null,
      "outputs": []
    },
    {
      "cell_type": "markdown",
      "source": [
        "Ejercicio 4\n",
        "Escribir programa que genere y muestre por pantalla un DataFrame con los datos de la tabla\n",
        "siguiente:\n",
        "Mes Ventas Gastos\n",
        "Enero 30500 22000\n",
        "Febrero35600 23400\n",
        "Marzo 28300 18100\n",
        "Abril 33900 20700\n"
      ],
      "metadata": {
        "id": "U3AVRemqnzCm"
      }
    },
    {
      "cell_type": "code",
      "source": [
        "import pandas as pd\n",
        "\n",
        "datos = {\n",
        "    \"Mes\": [\"Enero\", \"Febrero\", \"Marzo\", \"Abril\"],\n",
        "    \"Ventas\": [30500, 35600, 28300, 33900],\n",
        "    \"Gastos\": [22000, 23400, 18100, 20700]\n",
        "}\n",
        "\n",
        "df = pd.DataFrame(datos)\n",
        "print(df)\n"
      ],
      "metadata": {
        "id": "4jjFEEAtn_Wm"
      },
      "execution_count": null,
      "outputs": []
    },
    {
      "cell_type": "markdown",
      "source": [
        "Ejercicio 5\n",
        "Escribir una función que reciba un DataFrame con el formato del ejercicio anterior, una lista de\n",
        "meses, y devuelva el balance (ventas - gastos) total en los meses indicados.\n"
      ],
      "metadata": {
        "id": "dt7bqMWAn1JP"
      }
    },
    {
      "cell_type": "code",
      "source": [
        "def balance_mensual(df, meses):\n",
        "    df_filtrado = df[df[\"Mes\"].isin(meses)]\n",
        "    return (df_filtrado[\"Ventas\"] - df_filtrado[\"Gastos\"]).sum()\n",
        "\n",
        "# Ejemplo\n",
        "meses = [\"Enero\", \"Marzo\"]\n",
        "print(\"Balance:\", balance_mensual(df, meses))\n"
      ],
      "metadata": {
        "id": "9XCwgOiqn-5H"
      },
      "execution_count": null,
      "outputs": []
    },
    {
      "cell_type": "markdown",
      "source": [
        "Ejercicio 6\n",
        "El fichero cotizacion.csv contiene las cotizaciones de las empresas del IBEX35 con las siguientes\n",
        "columnas: nombre (nombre de la empresa), Final (precio de la acción al cierre de bolsa), Máximo\n",
        "(precio máximo de la acción durante la jornada), Mínimo (precio mínimo de la acción durante la\n",
        "jornada), volumen (Volumen al cierre de bolsa), Efectivo (capitalización al cierre en miles de euros).\n",
        "Construir una función que construya un DataFrame a partir del un fichero con el formato anterior y\n",
        "devuelva otro DataFrame con el mínimo, el máximo y la media de dada columna."
      ],
      "metadata": {
        "id": "a1rOFeQzn3A_"
      }
    },
    {
      "cell_type": "code",
      "source": [
        "import pandas as pd\n",
        "\n",
        "def analizar_cotizaciones(ruta_csv):\n",
        "    df = pd.read_csv(ruta_csv)\n",
        "    columnas_numericas = df.select_dtypes(include=['float64', 'int64']).columns\n",
        "    return df[columnas_numericas].agg(['min', 'max', 'mean'])\n",
        "\n",
        "# Ejemplo\n",
        "# print(analizar_cotizaciones(\"cotizacion.csv\"))\n"
      ],
      "metadata": {
        "id": "V23Jhko3n-c_"
      },
      "execution_count": null,
      "outputs": []
    },
    {
      "cell_type": "markdown",
      "source": [
        "Ejercicio 7\n",
        "El fichero titanic.csv contiene información sobre los pasajeros del Titanic. Escribir un programa con\n",
        "los siguientes requisitos:\n",
        "Generar un DataFrame con los datos del fichero.\n",
        "Mostrar por pantalla las dimensiones del DataFrame, el número de datos que contiene, los nombres\n",
        "de sus columnas y filas, los tipos de datos de las columnas, las 10 primeras filas y las 10 últimas filas\n",
        "Mostrar por pantalla los datos del pasajero con identificador 148.\n",
        "Mostrar por pantalla las filas pares del DataFrame.\n",
        "Mostrar por pantalla los nombres de las personas que iban en primera clase ordenadas\n",
        "alfabéticamente.\n",
        "Mostrar por pantalla el porcentaje de personas que sobrevivieron y murieron.\n",
        "Mostrar por pantalla el porcentaje de personas que sobrevivieron en cada clase.\n",
        "Eliminar del DataFrame los pasajeros con edad desconocida.\n",
        "Mostrar por pantalla la edad media de las mujeres que viajaban en cada clase.\n",
        "Añadir una nueva columna booleana para ver si el pasajero era menor de edad o no.\n",
        "Mostrar por pantalla el porcentaje de menores y mayores de edad que sobrevivieron en cada clase."
      ],
      "metadata": {
        "id": "1IQ3bPean4qW"
      }
    },
    {
      "cell_type": "code",
      "source": [
        "import pandas as pd\n",
        "\n",
        "df = pd.read_csv(\"titanic.csv\")\n",
        "\n",
        "# Dimensiones, cantidad de datos, nombres de columnas y filas, tipos\n",
        "print(\"Dimensiones:\", df.shape)\n",
        "print(\"Cantidad de datos:\", df.size)\n",
        "print(\"Columnas:\", df.columns.tolist())\n",
        "print(\"Índices:\", df.index.tolist()[:10])\n",
        "print(\"Tipos de datos:\\n\", df.dtypes)\n",
        "print(\"Primeras 10 filas:\\n\", df.head(10))\n",
        "print(\"Últimas 10 filas:\\n\", df.tail(10))\n",
        "\n",
        "# Pasajero con id 148\n",
        "print(\"Pasajero 148:\\n\", df.loc[148])\n",
        "\n",
        "# Filas pares\n",
        "print(\"Filas pares:\\n\", df.iloc[::2])\n",
        "\n",
        "# Nombres de personas de 1ra clase ordenadas\n",
        "primera_clase = df[df['Pclass'] == 1]['Name'].sort_values()\n",
        "print(\"Primera clase ordenado:\\n\", primera_clase)\n",
        "\n",
        "# Porcentaje de supervivientes y muertos\n",
        "sobrevivientes = df['Survived'].value_counts(normalize=True) * 100\n",
        "print(\"Porcentaje de sobrevivientes/muertos:\\n\", sobrevivientes)\n",
        "\n",
        "# Supervivientes por clase\n",
        "print(\"Supervivientes por clase:\\n\", df.groupby('Pclass')['Survived'].mean() * 100)\n",
        "\n",
        "# Eliminar pasajeros sin edad\n",
        "df = df[df['Age'].notna()]\n",
        "\n",
        "# Edad media de mujeres por clase\n",
        "print(\"Edad media de mujeres por clase:\\n\", df[df['Sex'] == 'female'].groupby('Pclass')['Age'].mean())\n",
        "\n",
        "# Columna menor de edad\n",
        "df['Menor'] = df['Age'] < 18\n",
        "\n",
        "# Supervivencia por clase y edad\n",
        "print(\"Supervivencia por clase y edad:\\n\", df.groupby(['Pclass', 'Menor'])['Survived'].mean() * 100)\n"
      ],
      "metadata": {
        "id": "OkU4cAzIn9_2"
      },
      "execution_count": null,
      "outputs": []
    },
    {
      "cell_type": "markdown",
      "source": [
        "Ejercicio 8\n",
        "Los ficheros emisiones-2016.csv, emisiones-2017.csv, emisiones-2018.csv y emisiones-2019.csv,\n",
        "contienen datos sobre las emisiones contaminates en la ciudad de Madrid en los años 2016, 2017,\n",
        "2018 y 2019 respectivamente. Escribir un programa con los siguientes requisitos:\n",
        "Generar un DataFrame con los datos de los cuatro ficheros.\n",
        "Filtrar las columnas del DataFrame para quedarse con las columnas ESTACION, MAGNITUD, AÑO,\n",
        "MES y las correspondientes a los días D01, D02, etc.\n",
        "Reestructurar el DataFrame para que los valores de los contaminantes de las columnas de los días\n",
        "aparezcan en una única columna.\n",
        "Añadir una columna con la fecha a partir de la concatenación del año, el mes y el día (usar el módulo\n",
        "datetime).\n",
        "Eliminar las filas con fechas no válidas (utilizar la función isnat del módulo numpy) y ordenar el\n",
        "DataFrame por estaciones contaminantes y fecha.\n",
        "Mostrar por pantalla las estaciones y los contaminantes disponibles en el DataFrame.\n",
        "Crear una función que reciba una estación, un contaminante y un rango de fechas y devuelva una\n",
        "serie con las emisiones del contaminante dado en la estación y rango de fechas dado."
      ],
      "metadata": {
        "id": "pV_dBnrUn7F3"
      }
    },
    {
      "cell_type": "code",
      "source": [
        "import pandas as pd\n",
        "import numpy as np\n",
        "from datetime import datetime\n",
        "\n",
        "# Cargar y unir\n",
        "def cargar_emisiones():\n",
        "    archivos = [f\"emisiones-{año}.csv\" for año in range(2016, 2020)]\n",
        "    df = pd.concat([pd.read_csv(f) for f in archivos])\n",
        "    return df\n",
        "\n",
        "df = cargar_emisiones()\n",
        "\n",
        "# Filtrar columnas clave\n",
        "dias = [f'D{str(d).zfill(2)}' for d in range(1, 32)]\n",
        "columnas = ['ESTACION', 'MAGNITUD', 'ANO', 'MES'] + dias\n",
        "df = df[columnas]\n",
        "\n",
        "# Reestructurar: un valor por fila (melt)\n",
        "df = df.melt(id_vars=['ESTACION', 'MAGNITUD', 'ANO', 'MES'],\n",
        "             value_vars=dias,\n",
        "             var_name='DIA', value_name='VALOR')\n",
        "\n",
        "# Agregar columna fecha\n",
        "df['DIA'] = df['DIA'].str.extract('D(\\d+)').astype(int)\n",
        "df['FECHA'] = pd.to_datetime(dict(year=df['ANO'], month=df['MES'], day=df['DIA']), errors='coerce')\n",
        "\n",
        "# Eliminar fechas inválidas y ordenar\n",
        "df = df.dropna(subset=['FECHA'])\n",
        "df = df.sort_values(by=['ESTACION', 'MAGNITUD', 'FECHA'])\n",
        "\n",
        "# Mostrar estaciones y contaminantes\n",
        "print(\"Estaciones:\", df['ESTACION'].unique())\n",
        "print(\"Contaminantes:\", df['MAGNITUD'].unique())\n",
        "\n",
        "# Función: emisiones por estación, contaminante y rango\n",
        "def emisiones_estacion_contaminante(df, estacion, magnitud, inicio, fin):\n",
        "    mask = (\n",
        "        (df['ESTACION'] == estacion) &\n",
        "        (df['MAGNITUD'] == magnitud) &\n",
        "        (df['FECHA'] >= pd.to_datetime(inicio)) &\n",
        "        (df['FECHA'] <= pd.to_datetime(fin))\n",
        "    )\n",
        "    return df.loc[mask, ['FECHA', 'VALOR']].set_index('FECHA').squeeze()\n",
        "\n",
        "# Resumen general\n",
        "print(\"Resumen general:\\n\", df.groupby('MAGNITUD')['VALOR'].describe())\n",
        "\n",
        "# Por estación (distrito)\n",
        "print(\"Resumen por estación:\\n\", df.groupby(['ESTACION', 'MAGNITUD'])['VALOR'].describe())\n",
        "\n",
        "# Función: resumen por estación y contaminante\n",
        "def resumen_estacion_contaminante(df, estacion, magnitud):\n",
        "    return df[(df['ESTACION'] == estacion) & (df['MAGNITUD'] == magnitud)]['VALOR'].describe()\n",
        "\n",
        "# Emisiones medias mensuales por contaminante y año\n",
        "def media_mensual_contaminante(df, contaminante, año):\n",
        "    df_filtrado = df[(df['MAGNITUD'] == contaminante) & (df['ANO'] == año)]\n",
        "    return df_filtrado.groupby('MES')['VALOR'].mean()\n",
        "\n",
        "# Medias mensuales por contaminante en una estación\n",
        "def medias_mensuales_por_estacion(df, estacion):\n",
        "    return df[df['ESTACION'] == estacion].groupby(['MAGNITUD', 'MES'])['VALOR'].mean().unstack()\n"
      ],
      "metadata": {
        "id": "yiwQamHVn9Kf"
      },
      "execution_count": null,
      "outputs": []
    }
  ]
}