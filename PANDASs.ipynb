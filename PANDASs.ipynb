{
  "nbformat": 4,
  "nbformat_minor": 0,
  "metadata": {
    "colab": {
      "provenance": [],
      "include_colab_link": true
    },
    "kernelspec": {
      "name": "python3",
      "display_name": "Python 3"
    },
    "language_info": {
      "name": "python"
    }
  },
  "cells": [
    {
      "cell_type": "markdown",
      "metadata": {
        "id": "view-in-github",
        "colab_type": "text"
      },
      "source": [
        "<a href=\"https://colab.research.google.com/github/RICHAR-SL/pandas/blob/main/PANDASs.ipynb\" target=\"_parent\"><img src=\"https://colab.research.google.com/assets/colab-badge.svg\" alt=\"Open In Colab\"/></a>"
      ]
    },
    {
      "cell_type": "code",
      "source": [
        "import pandas as pd\n",
        "import numpy as np"
      ],
      "metadata": {
        "id": "8zFwHOzhoovx"
      },
      "execution_count": 1,
      "outputs": []
    },
    {
      "cell_type": "markdown",
      "source": [
        "Escribir un programa que pregunte al usuario por las ventas de un rango de años y muestre por\n",
        "pantalla una serie con los datos de las ventas indexada por los años, antes y después de aplicarles\n",
        "un descuento del 10%."
      ],
      "metadata": {
        "id": "cAcFyWA8mdmA"
      }
    },
    {
      "cell_type": "code",
      "execution_count": null,
      "metadata": {
        "id": "G3vdRQq2Poad"
      },
      "outputs": [],
      "source": [
        "inicio = int(input(\"Año de inicio: \"))\n",
        "fin = int(input(\"Año final: \"))\n",
        "ventas = {}\n",
        "\n",
        "for año in range(inicio, fin + 1):\n",
        "    ventas[año] = float(input(f\"Ventas en {año}: \"))\n",
        "\n",
        "serie_ventas = pd.Series(ventas)\n",
        "serie_descuento = serie_ventas * 0.9\n",
        "\n",
        "print(\"Ventas normales:\")\n",
        "print(serie_ventas)\n",
        "print(\"\\nVentas con 10% de descuento:\")\n",
        "print(serie_descuento)\n"
      ]
    },
    {
      "cell_type": "markdown",
      "source": [
        "Ejercicio 2\n",
        "Escribir una función que reciba un diccionario con las notas de los alumnos de un curso y devuelva\n",
        "una serie con la nota mínima, la máxima, media y la desviación típica"
      ],
      "metadata": {
        "id": "u4S3GAslmfZu"
      }
    },
    {
      "cell_type": "code",
      "source": [
        "# Solicitar nombre del curso\n",
        "curso = input(\"Ingrese el nombre del curso: \")\n",
        "\n",
        "# Crear diccionario de notas\n",
        "notas = {}\n",
        "print(\"Ingrese las notas de los alumnos (deje el nombre vacío para terminar):\")\n",
        "\n",
        "while True:\n",
        "    nombre = input(\"Nombre del alumno: \")\n",
        "    if nombre == \"\":\n",
        "        break\n",
        "    try:\n",
        "        nota = float(input(f\"Nota de {nombre}: \"))\n",
        "        notas[nombre] = nota\n",
        "    except ValueError:\n",
        "        print(\"Por favor, ingrese una nota válida (número).\")\n",
        "\n",
        "# Convertir diccionario a Serie de pandas\n",
        "serie_notas = pd.Series(notas)\n",
        "\n",
        "# Calcular estadísticas del curso\n",
        "print(f\"\\nEstadísticas del curso {curso}:\")\n",
        "print(f\"Nota mínima: {serie_notas.min():.2f}\")\n",
        "print(f\"Nota máxima: {serie_notas.max():.2f}\")\n",
        "print(f\"Nota media: {serie_notas.mean():.2f}\")\n",
        "print(f\"Desviación típica: {serie_notas.std():.2f}\")\n",
        "\n"
      ],
      "metadata": {
        "id": "DEwUzcs2oAAl",
        "outputId": "269449fa-0e88-4d89-c993-42c9a7b82280",
        "colab": {
          "base_uri": "https://localhost:8080/"
        }
      },
      "execution_count": 3,
      "outputs": [
        {
          "output_type": "stream",
          "name": "stdout",
          "text": [
            "Ingrese el nombre del curso: mate\n",
            "Ingrese las notas de los alumnos (deje el nombre vacío para terminar):\n",
            "Nombre del alumno: jua\n",
            "Nota de jua: 10\n",
            "Nombre del alumno: sa\n",
            "Nota de sa: 12\n",
            "Nombre del alumno: asd\n",
            "Nota de asd: 11\n",
            "Nombre del alumno: \n",
            "\n",
            "Estadísticas del curso mate:\n",
            "Nota mínima: 10.00\n",
            "Nota máxima: 12.00\n",
            "Nota media: 11.00\n",
            "Desviación típica: 1.00\n"
          ]
        }
      ]
    },
    {
      "cell_type": "markdown",
      "source": [
        "Ejercicio 3\n",
        "Escribir una función que reciba un diccionario con las notas de los alumnos de un curso y devuelva\n",
        "una serie con las notas de los alumnos aprobados ordenadas de mayor a menor."
      ],
      "metadata": {
        "id": "bIZfCEo2nkMu"
      }
    },
    {
      "cell_type": "code",
      "source": [
        "\n",
        "# Función que devuelve las notas aprobadas ordenadas de mayor a menor\n",
        "def notas_aprobados(dic_notas):\n",
        "    serie = pd.Series(dic_notas)\n",
        "    aprobados = serie[serie >= 10.5].sort_values(ascending=False)\n",
        "    return aprobados\n",
        "\n",
        "# Solicitar nombre del curso\n",
        "curso = input(\"Ingrese el nombre del curso: \")\n",
        "\n",
        "# Crear diccionario de notas\n",
        "notas = {}\n",
        "print(\"Ingrese las notas de los alumnos (deje el nombre vacío para terminar):\")\n",
        "\n",
        "while True:\n",
        "    nombre = input(\"Nombre del alumno: \")\n",
        "    if nombre == \"\":\n",
        "        break\n",
        "    try:\n",
        "        nota = float(input(f\"Nota de {nombre}: \"))\n",
        "        notas[nombre] = nota\n",
        "    except ValueError:\n",
        "        print(\"Por favor, ingrese una nota válida (número).\")\n",
        "\n",
        "# Convertir diccionario a Serie de pandas\n",
        "serie_notas = pd.Series(notas)\n",
        "# Mostrar notas de alumnos aprobados\n",
        "print(f\"\\nAlumnos aprobados en {curso} (ordenados de mayor a menor):\")\n",
        "print(notas_aprobados(notas))\n",
        "\n"
      ],
      "metadata": {
        "id": "TQw2V8Hpn_oe",
        "outputId": "d9c70970-21ae-48c3-99ce-9a29e9649b84",
        "colab": {
          "base_uri": "https://localhost:8080/"
        }
      },
      "execution_count": 5,
      "outputs": [
        {
          "output_type": "stream",
          "name": "stdout",
          "text": [
            "Ingrese el nombre del curso: mate\n",
            "Ingrese las notas de los alumnos (deje el nombre vacío para terminar):\n",
            "Nombre del alumno: juan\n",
            "Nota de juan: 10.5\n",
            "Nombre del alumno: maria\n",
            "Nota de maria: 10.4\n",
            "Nombre del alumno: luis\n",
            "Nota de luis: 5\n",
            "Nombre del alumno: roberto\n",
            "Nota de roberto: 11\n",
            "Nombre del alumno: luisa\n",
            "Nota de luisa: 20\n",
            "Nombre del alumno: \n",
            "\n",
            "Alumnos aprobados en mate (ordenados de mayor a menor):\n",
            "luisa      20.0\n",
            "roberto    11.0\n",
            "juan       10.5\n",
            "dtype: float64\n"
          ]
        }
      ]
    },
    {
      "cell_type": "markdown",
      "source": [
        "Ejercicio 4\n",
        "Escribir programa que genere y muestre por pantalla un DataFrame con los datos de la tabla\n",
        "siguiente:\n",
        "Mes Ventas Gastos\n",
        "Enero 30500 22000\n",
        "Febrero35600 23400\n",
        "Marzo 28300 18100\n",
        "Abril 33900 20700\n"
      ],
      "metadata": {
        "id": "U3AVRemqnzCm"
      }
    },
    {
      "cell_type": "code",
      "source": [
        "\n",
        "\n",
        "datos = {\n",
        "    \"Mes\": [\"Enero\", \"Febrero\", \"Marzo\", \"Abril\"],\n",
        "    \"Ventas\": [30500, 35600, 28300, 33900],\n",
        "    \"Gastos\": [22000, 23400, 18100, 20700]\n",
        "}\n",
        "\n",
        "df = pd.DataFrame(datos)\n",
        "print(df)\n"
      ],
      "metadata": {
        "id": "4jjFEEAtn_Wm",
        "outputId": "e04a25ff-db76-44f9-882c-05ea78d34ea6",
        "colab": {
          "base_uri": "https://localhost:8080/"
        }
      },
      "execution_count": 6,
      "outputs": [
        {
          "output_type": "stream",
          "name": "stdout",
          "text": [
            "       Mes  Ventas  Gastos\n",
            "0    Enero   30500   22000\n",
            "1  Febrero   35600   23400\n",
            "2    Marzo   28300   18100\n",
            "3    Abril   33900   20700\n"
          ]
        }
      ]
    },
    {
      "cell_type": "markdown",
      "source": [
        "Ejercicio 5\n",
        "Escribir una función que reciba un DataFrame con el formato del ejercicio anterior, una lista de\n",
        "meses, y devuelva el balance (ventas - gastos) total en los meses indicados.\n"
      ],
      "metadata": {
        "id": "dt7bqMWAn1JP"
      }
    },
    {
      "cell_type": "code",
      "source": [
        "def balance_mensual(df, meses):\n",
        "    df_filtrado = df[df[\"Mes\"].isin(meses)]\n",
        "    return (df_filtrado[\"Ventas\"] - df_filtrado[\"Gastos\"]).sum()\n",
        "\n",
        "# Ejemplo\n",
        "meses = [\"Enero\", \"Abril\"]\n",
        "print(\"Balance:\", balance_mensual(df, meses))\n"
      ],
      "metadata": {
        "id": "9XCwgOiqn-5H",
        "outputId": "3069d0e0-a8e9-4277-9b6a-cf8fb015fcaf",
        "colab": {
          "base_uri": "https://localhost:8080/"
        }
      },
      "execution_count": 8,
      "outputs": [
        {
          "output_type": "stream",
          "name": "stdout",
          "text": [
            "Balance: 21700\n"
          ]
        }
      ]
    },
    {
      "cell_type": "markdown",
      "source": [
        "Ejercicio 6\n",
        "El fichero cotizacion.csv contiene las cotizaciones de las empresas del IBEX35 con las siguientes\n",
        "columnas: nombre (nombre de la empresa), Final (precio de la acción al cierre de bolsa), Máximo\n",
        "(precio máximo de la acción durante la jornada), Mínimo (precio mínimo de la acción durante la\n",
        "jornada), volumen (Volumen al cierre de bolsa), Efectivo (capitalización al cierre en miles de euros).\n",
        "Construir una función que construya un DataFrame a partir del un fichero con el formato anterior y\n",
        "devuelva otro DataFrame con el mínimo, el máximo y la media de dada columna."
      ],
      "metadata": {
        "id": "a1rOFeQzn3A_"
      }
    },
    {
      "cell_type": "code",
      "source": [
        "# Función que lee el archivo y calcula min, max y media de una columna\n",
        "def resumen_columna(archivo, columna):\n",
        "    df = pd.read_csv(archivo, sep=';')  # <-- Esto es clave\n",
        "\n",
        "    # Eliminar espacios en nombres de columnas si los hay\n",
        "    df.columns = df.columns.str.strip()\n",
        "\n",
        "    if columna in df.columns:\n",
        "        resumen = {\n",
        "            'Minimo': df[columna].min(),\n",
        "            'Maximo': df[columna].max(),\n",
        "            'Media': df[columna].mean()\n",
        "        }\n",
        "        return pd.DataFrame([resumen])\n",
        "# Parámetros\n",
        "archivo = \"/content/cotizacion.csv\"\n",
        "columna = 'Maximo'  # Usa el nombre exacto de la columna (con tilde si la tiene)\n",
        "\n",
        "# Obtener y mostrar resultado\n",
        "resultado = resumen_columna(archivo, columna)\n",
        "print(f\"Resumen de la columna '{columna}':\")\n",
        "print(resultado)\n",
        "\n",
        "\n",
        "\n",
        "\n",
        "\n"
      ],
      "metadata": {
        "id": "V23Jhko3n-c_",
        "outputId": "9aafa609-3cea-4886-a4ae-918f97519cdc",
        "colab": {
          "base_uri": "https://localhost:8080/"
        }
      },
      "execution_count": 30,
      "outputs": [
        {
          "output_type": "stream",
          "name": "stdout",
          "text": [
            "Resumen de la columna 'Maximo':\n",
            "   Minimo  Maximo  Media\n",
            "0      13      21  17.25\n"
          ]
        }
      ]
    },
    {
      "cell_type": "markdown",
      "source": [
        "Ejercicio 7\n",
        "El fichero titanic.csv contiene información sobre los pasajeros del Titanic. Escribir un programa con\n",
        "los siguientes requisitos:\n",
        "Generar un DataFrame con los datos del fichero.\n",
        "Mostrar por pantalla las dimensiones del DataFrame, el número de datos que contiene, los nombres\n",
        "de sus columnas y filas, los tipos de datos de las columnas, las 10 primeras filas y las 10 últimas filas\n",
        "Mostrar por pantalla los datos del pasajero con identificador 148.\n",
        "Mostrar por pantalla las filas pares del DataFrame.\n",
        "Mostrar por pantalla los nombres de las personas que iban en primera clase ordenadas\n",
        "alfabéticamente.\n",
        "Mostrar por pantalla el porcentaje de personas que sobrevivieron y murieron.\n",
        "Mostrar por pantalla el porcentaje de personas que sobrevivieron en cada clase.\n",
        "Eliminar del DataFrame los pasajeros con edad desconocida.\n",
        "Mostrar por pantalla la edad media de las mujeres que viajaban en cada clase.\n",
        "Añadir una nueva columna booleana para ver si el pasajero era menor de edad o no.\n",
        "Mostrar por pantalla el porcentaje de menores y mayores de edad que sobrevivieron en cada clase."
      ],
      "metadata": {
        "id": "1IQ3bPean4qW"
      }
    },
    {
      "cell_type": "code",
      "source": [
        "\n",
        "\n",
        "df = pd.read_csv(\"titanic.csv\")\n",
        "\n",
        "# Dimensiones, cantidad de datos, nombres de columnas y filas, tipos\n",
        "print(\"Dimensiones:\", df.shape)\n",
        "print(\"Cantidad de datos:\", df.size)\n",
        "print(\"Columnas:\", df.columns.tolist())\n",
        "print(\"Índices:\", df.index.tolist()[:10])\n",
        "print(\"Tipos de datos:\\n\", df.dtypes)\n",
        "print(\"Primeras 10 filas:\\n\", df.head(10))\n",
        "print(\"Últimas 10 filas:\\n\", df.tail(10))\n",
        "\n",
        "# Pasajero con id 148\n",
        "print(\"Pasajero 148:\\n\", df.loc[148])\n",
        "\n",
        "# Filas pares\n",
        "print(\"Filas pares:\\n\", df.iloc[::2])\n",
        "\n",
        "# Nombres de personas de 1ra clase ordenadas\n",
        "primera_clase = df[df['Pclass'] == 1]['Name'].sort_values()\n",
        "print(\"Primera clase ordenado:\\n\", primera_clase)\n",
        "\n",
        "# Porcentaje de supervivientes y muertos\n",
        "sobrevivientes = df['Survived'].value_counts(normalize=True) * 100\n",
        "print(\"Porcentaje de sobrevivientes/muertos:\\n\", sobrevivientes)\n",
        "\n",
        "# Supervivientes por clase\n",
        "print(\"Supervivientes por clase:\\n\", df.groupby('Pclass')['Survived'].mean() * 100)\n",
        "\n",
        "# Eliminar pasajeros sin edad\n",
        "df = df[df['Age'].notna()]\n",
        "\n",
        "# Edad media de mujeres por clase\n",
        "print(\"Edad media de mujeres por clase:\\n\", df[df['Sex'] == 'female'].groupby('Pclass')['Age'].mean())\n",
        "\n",
        "# Columna menor de edad\n",
        "df['Menor'] = df['Age'] < 18\n",
        "\n",
        "# Supervivencia por clase y edad\n",
        "print(\"Supervivencia por clase y edad:\\n\", df.groupby(['Pclass', 'Menor'])['Survived'].mean() * 100)\n"
      ],
      "metadata": {
        "id": "OkU4cAzIn9_2",
        "outputId": "47279424-e8fb-4244-b58a-67b473fec26b",
        "colab": {
          "base_uri": "https://localhost:8080/",
          "height": 373
        }
      },
      "execution_count": 31,
      "outputs": [
        {
          "output_type": "error",
          "ename": "FileNotFoundError",
          "evalue": "[Errno 2] No such file or directory: 'titanic.csv'",
          "traceback": [
            "\u001b[0;31m---------------------------------------------------------------------------\u001b[0m",
            "\u001b[0;31mFileNotFoundError\u001b[0m                         Traceback (most recent call last)",
            "\u001b[0;32m/tmp/ipython-input-31-2234436148.py\u001b[0m in \u001b[0;36m<cell line: 0>\u001b[0;34m()\u001b[0m\n\u001b[0;32m----> 1\u001b[0;31m \u001b[0mdf\u001b[0m \u001b[0;34m=\u001b[0m \u001b[0mpd\u001b[0m\u001b[0;34m.\u001b[0m\u001b[0mread_csv\u001b[0m\u001b[0;34m(\u001b[0m\u001b[0;34m\"titanic.csv\"\u001b[0m\u001b[0;34m)\u001b[0m\u001b[0;34m\u001b[0m\u001b[0;34m\u001b[0m\u001b[0m\n\u001b[0m\u001b[1;32m      2\u001b[0m \u001b[0;34m\u001b[0m\u001b[0m\n\u001b[1;32m      3\u001b[0m \u001b[0;31m# Dimensiones, cantidad de datos, nombres de columnas y filas, tipos\u001b[0m\u001b[0;34m\u001b[0m\u001b[0;34m\u001b[0m\u001b[0m\n\u001b[1;32m      4\u001b[0m \u001b[0mprint\u001b[0m\u001b[0;34m(\u001b[0m\u001b[0;34m\"Dimensiones:\"\u001b[0m\u001b[0;34m,\u001b[0m \u001b[0mdf\u001b[0m\u001b[0;34m.\u001b[0m\u001b[0mshape\u001b[0m\u001b[0;34m)\u001b[0m\u001b[0;34m\u001b[0m\u001b[0;34m\u001b[0m\u001b[0m\n\u001b[1;32m      5\u001b[0m \u001b[0mprint\u001b[0m\u001b[0;34m(\u001b[0m\u001b[0;34m\"Cantidad de datos:\"\u001b[0m\u001b[0;34m,\u001b[0m \u001b[0mdf\u001b[0m\u001b[0;34m.\u001b[0m\u001b[0msize\u001b[0m\u001b[0;34m)\u001b[0m\u001b[0;34m\u001b[0m\u001b[0;34m\u001b[0m\u001b[0m\n",
            "\u001b[0;32m/usr/local/lib/python3.11/dist-packages/pandas/io/parsers/readers.py\u001b[0m in \u001b[0;36mread_csv\u001b[0;34m(filepath_or_buffer, sep, delimiter, header, names, index_col, usecols, dtype, engine, converters, true_values, false_values, skipinitialspace, skiprows, skipfooter, nrows, na_values, keep_default_na, na_filter, verbose, skip_blank_lines, parse_dates, infer_datetime_format, keep_date_col, date_parser, date_format, dayfirst, cache_dates, iterator, chunksize, compression, thousands, decimal, lineterminator, quotechar, quoting, doublequote, escapechar, comment, encoding, encoding_errors, dialect, on_bad_lines, delim_whitespace, low_memory, memory_map, float_precision, storage_options, dtype_backend)\u001b[0m\n\u001b[1;32m   1024\u001b[0m     \u001b[0mkwds\u001b[0m\u001b[0;34m.\u001b[0m\u001b[0mupdate\u001b[0m\u001b[0;34m(\u001b[0m\u001b[0mkwds_defaults\u001b[0m\u001b[0;34m)\u001b[0m\u001b[0;34m\u001b[0m\u001b[0;34m\u001b[0m\u001b[0m\n\u001b[1;32m   1025\u001b[0m \u001b[0;34m\u001b[0m\u001b[0m\n\u001b[0;32m-> 1026\u001b[0;31m     \u001b[0;32mreturn\u001b[0m \u001b[0m_read\u001b[0m\u001b[0;34m(\u001b[0m\u001b[0mfilepath_or_buffer\u001b[0m\u001b[0;34m,\u001b[0m \u001b[0mkwds\u001b[0m\u001b[0;34m)\u001b[0m\u001b[0;34m\u001b[0m\u001b[0;34m\u001b[0m\u001b[0m\n\u001b[0m\u001b[1;32m   1027\u001b[0m \u001b[0;34m\u001b[0m\u001b[0m\n\u001b[1;32m   1028\u001b[0m \u001b[0;34m\u001b[0m\u001b[0m\n",
            "\u001b[0;32m/usr/local/lib/python3.11/dist-packages/pandas/io/parsers/readers.py\u001b[0m in \u001b[0;36m_read\u001b[0;34m(filepath_or_buffer, kwds)\u001b[0m\n\u001b[1;32m    618\u001b[0m \u001b[0;34m\u001b[0m\u001b[0m\n\u001b[1;32m    619\u001b[0m     \u001b[0;31m# Create the parser.\u001b[0m\u001b[0;34m\u001b[0m\u001b[0;34m\u001b[0m\u001b[0m\n\u001b[0;32m--> 620\u001b[0;31m     \u001b[0mparser\u001b[0m \u001b[0;34m=\u001b[0m \u001b[0mTextFileReader\u001b[0m\u001b[0;34m(\u001b[0m\u001b[0mfilepath_or_buffer\u001b[0m\u001b[0;34m,\u001b[0m \u001b[0;34m**\u001b[0m\u001b[0mkwds\u001b[0m\u001b[0;34m)\u001b[0m\u001b[0;34m\u001b[0m\u001b[0;34m\u001b[0m\u001b[0m\n\u001b[0m\u001b[1;32m    621\u001b[0m \u001b[0;34m\u001b[0m\u001b[0m\n\u001b[1;32m    622\u001b[0m     \u001b[0;32mif\u001b[0m \u001b[0mchunksize\u001b[0m \u001b[0;32mor\u001b[0m \u001b[0miterator\u001b[0m\u001b[0;34m:\u001b[0m\u001b[0;34m\u001b[0m\u001b[0;34m\u001b[0m\u001b[0m\n",
            "\u001b[0;32m/usr/local/lib/python3.11/dist-packages/pandas/io/parsers/readers.py\u001b[0m in \u001b[0;36m__init__\u001b[0;34m(self, f, engine, **kwds)\u001b[0m\n\u001b[1;32m   1618\u001b[0m \u001b[0;34m\u001b[0m\u001b[0m\n\u001b[1;32m   1619\u001b[0m         \u001b[0mself\u001b[0m\u001b[0;34m.\u001b[0m\u001b[0mhandles\u001b[0m\u001b[0;34m:\u001b[0m \u001b[0mIOHandles\u001b[0m \u001b[0;34m|\u001b[0m \u001b[0;32mNone\u001b[0m \u001b[0;34m=\u001b[0m \u001b[0;32mNone\u001b[0m\u001b[0;34m\u001b[0m\u001b[0;34m\u001b[0m\u001b[0m\n\u001b[0;32m-> 1620\u001b[0;31m         \u001b[0mself\u001b[0m\u001b[0;34m.\u001b[0m\u001b[0m_engine\u001b[0m \u001b[0;34m=\u001b[0m \u001b[0mself\u001b[0m\u001b[0;34m.\u001b[0m\u001b[0m_make_engine\u001b[0m\u001b[0;34m(\u001b[0m\u001b[0mf\u001b[0m\u001b[0;34m,\u001b[0m \u001b[0mself\u001b[0m\u001b[0;34m.\u001b[0m\u001b[0mengine\u001b[0m\u001b[0;34m)\u001b[0m\u001b[0;34m\u001b[0m\u001b[0;34m\u001b[0m\u001b[0m\n\u001b[0m\u001b[1;32m   1621\u001b[0m \u001b[0;34m\u001b[0m\u001b[0m\n\u001b[1;32m   1622\u001b[0m     \u001b[0;32mdef\u001b[0m \u001b[0mclose\u001b[0m\u001b[0;34m(\u001b[0m\u001b[0mself\u001b[0m\u001b[0;34m)\u001b[0m \u001b[0;34m->\u001b[0m \u001b[0;32mNone\u001b[0m\u001b[0;34m:\u001b[0m\u001b[0;34m\u001b[0m\u001b[0;34m\u001b[0m\u001b[0m\n",
            "\u001b[0;32m/usr/local/lib/python3.11/dist-packages/pandas/io/parsers/readers.py\u001b[0m in \u001b[0;36m_make_engine\u001b[0;34m(self, f, engine)\u001b[0m\n\u001b[1;32m   1878\u001b[0m                 \u001b[0;32mif\u001b[0m \u001b[0;34m\"b\"\u001b[0m \u001b[0;32mnot\u001b[0m \u001b[0;32min\u001b[0m \u001b[0mmode\u001b[0m\u001b[0;34m:\u001b[0m\u001b[0;34m\u001b[0m\u001b[0;34m\u001b[0m\u001b[0m\n\u001b[1;32m   1879\u001b[0m                     \u001b[0mmode\u001b[0m \u001b[0;34m+=\u001b[0m \u001b[0;34m\"b\"\u001b[0m\u001b[0;34m\u001b[0m\u001b[0;34m\u001b[0m\u001b[0m\n\u001b[0;32m-> 1880\u001b[0;31m             self.handles = get_handle(\n\u001b[0m\u001b[1;32m   1881\u001b[0m                 \u001b[0mf\u001b[0m\u001b[0;34m,\u001b[0m\u001b[0;34m\u001b[0m\u001b[0;34m\u001b[0m\u001b[0m\n\u001b[1;32m   1882\u001b[0m                 \u001b[0mmode\u001b[0m\u001b[0;34m,\u001b[0m\u001b[0;34m\u001b[0m\u001b[0;34m\u001b[0m\u001b[0m\n",
            "\u001b[0;32m/usr/local/lib/python3.11/dist-packages/pandas/io/common.py\u001b[0m in \u001b[0;36mget_handle\u001b[0;34m(path_or_buf, mode, encoding, compression, memory_map, is_text, errors, storage_options)\u001b[0m\n\u001b[1;32m    871\u001b[0m         \u001b[0;32mif\u001b[0m \u001b[0mioargs\u001b[0m\u001b[0;34m.\u001b[0m\u001b[0mencoding\u001b[0m \u001b[0;32mand\u001b[0m \u001b[0;34m\"b\"\u001b[0m \u001b[0;32mnot\u001b[0m \u001b[0;32min\u001b[0m \u001b[0mioargs\u001b[0m\u001b[0;34m.\u001b[0m\u001b[0mmode\u001b[0m\u001b[0;34m:\u001b[0m\u001b[0;34m\u001b[0m\u001b[0;34m\u001b[0m\u001b[0m\n\u001b[1;32m    872\u001b[0m             \u001b[0;31m# Encoding\u001b[0m\u001b[0;34m\u001b[0m\u001b[0;34m\u001b[0m\u001b[0m\n\u001b[0;32m--> 873\u001b[0;31m             handle = open(\n\u001b[0m\u001b[1;32m    874\u001b[0m                 \u001b[0mhandle\u001b[0m\u001b[0;34m,\u001b[0m\u001b[0;34m\u001b[0m\u001b[0;34m\u001b[0m\u001b[0m\n\u001b[1;32m    875\u001b[0m                 \u001b[0mioargs\u001b[0m\u001b[0;34m.\u001b[0m\u001b[0mmode\u001b[0m\u001b[0;34m,\u001b[0m\u001b[0;34m\u001b[0m\u001b[0;34m\u001b[0m\u001b[0m\n",
            "\u001b[0;31mFileNotFoundError\u001b[0m: [Errno 2] No such file or directory: 'titanic.csv'"
          ]
        }
      ]
    },
    {
      "cell_type": "markdown",
      "source": [
        "Ejercicio 8\n",
        "Los ficheros emisiones-2016.csv, emisiones-2017.csv, emisiones-2018.csv y emisiones-2019.csv,\n",
        "contienen datos sobre las emisiones contaminates en la ciudad de Madrid en los años 2016, 2017,\n",
        "2018 y 2019 respectivamente. Escribir un programa con los siguientes requisitos:\n",
        "Generar un DataFrame con los datos de los cuatro ficheros.\n",
        "Filtrar las columnas del DataFrame para quedarse con las columnas ESTACION, MAGNITUD, AÑO,\n",
        "MES y las correspondientes a los días D01, D02, etc.\n",
        "Reestructurar el DataFrame para que los valores de los contaminantes de las columnas de los días\n",
        "aparezcan en una única columna.\n",
        "Añadir una columna con la fecha a partir de la concatenación del año, el mes y el día (usar el módulo\n",
        "datetime).\n",
        "Eliminar las filas con fechas no válidas (utilizar la función isnat del módulo numpy) y ordenar el\n",
        "DataFrame por estaciones contaminantes y fecha.\n",
        "Mostrar por pantalla las estaciones y los contaminantes disponibles en el DataFrame.\n",
        "Crear una función que reciba una estación, un contaminante y un rango de fechas y devuelva una\n",
        "serie con las emisiones del contaminante dado en la estación y rango de fechas dado."
      ],
      "metadata": {
        "id": "pV_dBnrUn7F3"
      }
    },
    {
      "cell_type": "code",
      "source": [
        "from datetime import datetime\n",
        "\n",
        "# Cargar y unir\n",
        "def cargar_emisiones():\n",
        "    archivos = [f\"emisiones-{año}.csv\" for año in range(2016, 2020)]\n",
        "    df = pd.concat([pd.read_csv(f) for f in archivos])\n",
        "    return df\n",
        "\n",
        "df = cargar_emisiones()\n",
        "\n",
        "# Filtrar columnas clave\n",
        "dias = [f'D{str(d).zfill(2)}' for d in range(1, 32)]\n",
        "columnas = ['ESTACION', 'MAGNITUD', 'ANO', 'MES'] + dias\n",
        "df = df[columnas]\n",
        "\n",
        "# Reestructurar: un valor por fila (melt)\n",
        "df = df.melt(id_vars=['ESTACION', 'MAGNITUD', 'ANO', 'MES'],\n",
        "             value_vars=dias,\n",
        "             var_name='DIA', value_name='VALOR')\n",
        "\n",
        "# Agregar columna fecha\n",
        "df['DIA'] = df['DIA'].str.extract('D(\\d+)').astype(int)\n",
        "df['FECHA'] = pd.to_datetime(dict(year=df['ANO'], month=df['MES'], day=df['DIA']), errors='coerce')\n",
        "\n",
        "# Eliminar fechas inválidas y ordenar\n",
        "df = df.dropna(subset=['FECHA'])\n",
        "df = df.sort_values(by=['ESTACION', 'MAGNITUD', 'FECHA'])\n",
        "\n",
        "# Mostrar estaciones y contaminantes\n",
        "print(\"Estaciones:\", df['ESTACION'].unique())\n",
        "print(\"Contaminantes:\", df['MAGNITUD'].unique())\n",
        "\n",
        "# Función: emisiones por estación, contaminante y rango\n",
        "def emisiones_estacion_contaminante(df, estacion, magnitud, inicio, fin):\n",
        "    mask = (\n",
        "        (df['ESTACION'] == estacion) &\n",
        "        (df['MAGNITUD'] == magnitud) &\n",
        "        (df['FECHA'] >= pd.to_datetime(inicio)) &\n",
        "        (df['FECHA'] <= pd.to_datetime(fin))\n",
        "    )\n",
        "    return df.loc[mask, ['FECHA', 'VALOR']].set_index('FECHA').squeeze()\n",
        "\n",
        "# Resumen general\n",
        "print(\"Resumen general:\\n\", df.groupby('MAGNITUD')['VALOR'].describe())\n",
        "\n",
        "# Por estación (distrito)\n",
        "print(\"Resumen por estación:\\n\", df.groupby(['ESTACION', 'MAGNITUD'])['VALOR'].describe())\n",
        "\n",
        "# Función: resumen por estación y contaminante\n",
        "def resumen_estacion_contaminante(df, estacion, magnitud):\n",
        "    return df[(df['ESTACION'] == estacion) & (df['MAGNITUD'] == magnitud)]['VALOR'].describe()\n",
        "\n",
        "# Emisiones medias mensuales por contaminante y año\n",
        "def media_mensual_contaminante(df, contaminante, año):\n",
        "    df_filtrado = df[(df['MAGNITUD'] == contaminante) & (df['ANO'] == año)]\n",
        "    return df_filtrado.groupby('MES')['VALOR'].mean()\n",
        "\n",
        "# Medias mensuales por contaminante en una estación\n",
        "def medias_mensuales_por_estacion(df, estacion):\n",
        "    return df[df['ESTACION'] == estacion].groupby(['MAGNITUD', 'MES'])['VALOR'].mean().unstack()\n"
      ],
      "metadata": {
        "id": "yiwQamHVn9Kf",
        "outputId": "98be303c-8998-4dca-c28a-8f4be6974781",
        "colab": {
          "base_uri": "https://localhost:8080/",
          "height": 373
        }
      },
      "execution_count": 32,
      "outputs": [
        {
          "output_type": "error",
          "ename": "FileNotFoundError",
          "evalue": "[Errno 2] No such file or directory: 'emisiones-2016.csv'",
          "traceback": [
            "\u001b[0;31m---------------------------------------------------------------------------\u001b[0m",
            "\u001b[0;31mFileNotFoundError\u001b[0m                         Traceback (most recent call last)",
            "\u001b[0;32m/tmp/ipython-input-32-1222849698.py\u001b[0m in \u001b[0;36m<cell line: 0>\u001b[0;34m()\u001b[0m\n\u001b[1;32m      7\u001b[0m     \u001b[0;32mreturn\u001b[0m \u001b[0mdf\u001b[0m\u001b[0;34m\u001b[0m\u001b[0;34m\u001b[0m\u001b[0m\n\u001b[1;32m      8\u001b[0m \u001b[0;34m\u001b[0m\u001b[0m\n\u001b[0;32m----> 9\u001b[0;31m \u001b[0mdf\u001b[0m \u001b[0;34m=\u001b[0m \u001b[0mcargar_emisiones\u001b[0m\u001b[0;34m(\u001b[0m\u001b[0;34m)\u001b[0m\u001b[0;34m\u001b[0m\u001b[0;34m\u001b[0m\u001b[0m\n\u001b[0m\u001b[1;32m     10\u001b[0m \u001b[0;34m\u001b[0m\u001b[0m\n\u001b[1;32m     11\u001b[0m \u001b[0;31m# Filtrar columnas clave\u001b[0m\u001b[0;34m\u001b[0m\u001b[0;34m\u001b[0m\u001b[0m\n",
            "\u001b[0;32m/tmp/ipython-input-32-1222849698.py\u001b[0m in \u001b[0;36mcargar_emisiones\u001b[0;34m()\u001b[0m\n\u001b[1;32m      4\u001b[0m \u001b[0;32mdef\u001b[0m \u001b[0mcargar_emisiones\u001b[0m\u001b[0;34m(\u001b[0m\u001b[0;34m)\u001b[0m\u001b[0;34m:\u001b[0m\u001b[0;34m\u001b[0m\u001b[0;34m\u001b[0m\u001b[0m\n\u001b[1;32m      5\u001b[0m     \u001b[0marchivos\u001b[0m \u001b[0;34m=\u001b[0m \u001b[0;34m[\u001b[0m\u001b[0;34mf\"emisiones-{año}.csv\"\u001b[0m \u001b[0;32mfor\u001b[0m \u001b[0maño\u001b[0m \u001b[0;32min\u001b[0m \u001b[0mrange\u001b[0m\u001b[0;34m(\u001b[0m\u001b[0;36m2016\u001b[0m\u001b[0;34m,\u001b[0m \u001b[0;36m2020\u001b[0m\u001b[0;34m)\u001b[0m\u001b[0;34m]\u001b[0m\u001b[0;34m\u001b[0m\u001b[0;34m\u001b[0m\u001b[0m\n\u001b[0;32m----> 6\u001b[0;31m     \u001b[0mdf\u001b[0m \u001b[0;34m=\u001b[0m \u001b[0mpd\u001b[0m\u001b[0;34m.\u001b[0m\u001b[0mconcat\u001b[0m\u001b[0;34m(\u001b[0m\u001b[0;34m[\u001b[0m\u001b[0mpd\u001b[0m\u001b[0;34m.\u001b[0m\u001b[0mread_csv\u001b[0m\u001b[0;34m(\u001b[0m\u001b[0mf\u001b[0m\u001b[0;34m)\u001b[0m \u001b[0;32mfor\u001b[0m \u001b[0mf\u001b[0m \u001b[0;32min\u001b[0m \u001b[0marchivos\u001b[0m\u001b[0;34m]\u001b[0m\u001b[0;34m)\u001b[0m\u001b[0;34m\u001b[0m\u001b[0;34m\u001b[0m\u001b[0m\n\u001b[0m\u001b[1;32m      7\u001b[0m     \u001b[0;32mreturn\u001b[0m \u001b[0mdf\u001b[0m\u001b[0;34m\u001b[0m\u001b[0;34m\u001b[0m\u001b[0m\n\u001b[1;32m      8\u001b[0m \u001b[0;34m\u001b[0m\u001b[0m\n",
            "\u001b[0;32m/tmp/ipython-input-32-1222849698.py\u001b[0m in \u001b[0;36m<listcomp>\u001b[0;34m(.0)\u001b[0m\n\u001b[1;32m      4\u001b[0m \u001b[0;32mdef\u001b[0m \u001b[0mcargar_emisiones\u001b[0m\u001b[0;34m(\u001b[0m\u001b[0;34m)\u001b[0m\u001b[0;34m:\u001b[0m\u001b[0;34m\u001b[0m\u001b[0;34m\u001b[0m\u001b[0m\n\u001b[1;32m      5\u001b[0m     \u001b[0marchivos\u001b[0m \u001b[0;34m=\u001b[0m \u001b[0;34m[\u001b[0m\u001b[0;34mf\"emisiones-{año}.csv\"\u001b[0m \u001b[0;32mfor\u001b[0m \u001b[0maño\u001b[0m \u001b[0;32min\u001b[0m \u001b[0mrange\u001b[0m\u001b[0;34m(\u001b[0m\u001b[0;36m2016\u001b[0m\u001b[0;34m,\u001b[0m \u001b[0;36m2020\u001b[0m\u001b[0;34m)\u001b[0m\u001b[0;34m]\u001b[0m\u001b[0;34m\u001b[0m\u001b[0;34m\u001b[0m\u001b[0m\n\u001b[0;32m----> 6\u001b[0;31m     \u001b[0mdf\u001b[0m \u001b[0;34m=\u001b[0m \u001b[0mpd\u001b[0m\u001b[0;34m.\u001b[0m\u001b[0mconcat\u001b[0m\u001b[0;34m(\u001b[0m\u001b[0;34m[\u001b[0m\u001b[0mpd\u001b[0m\u001b[0;34m.\u001b[0m\u001b[0mread_csv\u001b[0m\u001b[0;34m(\u001b[0m\u001b[0mf\u001b[0m\u001b[0;34m)\u001b[0m \u001b[0;32mfor\u001b[0m \u001b[0mf\u001b[0m \u001b[0;32min\u001b[0m \u001b[0marchivos\u001b[0m\u001b[0;34m]\u001b[0m\u001b[0;34m)\u001b[0m\u001b[0;34m\u001b[0m\u001b[0;34m\u001b[0m\u001b[0m\n\u001b[0m\u001b[1;32m      7\u001b[0m     \u001b[0;32mreturn\u001b[0m \u001b[0mdf\u001b[0m\u001b[0;34m\u001b[0m\u001b[0;34m\u001b[0m\u001b[0m\n\u001b[1;32m      8\u001b[0m \u001b[0;34m\u001b[0m\u001b[0m\n",
            "\u001b[0;32m/usr/local/lib/python3.11/dist-packages/pandas/io/parsers/readers.py\u001b[0m in \u001b[0;36mread_csv\u001b[0;34m(filepath_or_buffer, sep, delimiter, header, names, index_col, usecols, dtype, engine, converters, true_values, false_values, skipinitialspace, skiprows, skipfooter, nrows, na_values, keep_default_na, na_filter, verbose, skip_blank_lines, parse_dates, infer_datetime_format, keep_date_col, date_parser, date_format, dayfirst, cache_dates, iterator, chunksize, compression, thousands, decimal, lineterminator, quotechar, quoting, doublequote, escapechar, comment, encoding, encoding_errors, dialect, on_bad_lines, delim_whitespace, low_memory, memory_map, float_precision, storage_options, dtype_backend)\u001b[0m\n\u001b[1;32m   1024\u001b[0m     \u001b[0mkwds\u001b[0m\u001b[0;34m.\u001b[0m\u001b[0mupdate\u001b[0m\u001b[0;34m(\u001b[0m\u001b[0mkwds_defaults\u001b[0m\u001b[0;34m)\u001b[0m\u001b[0;34m\u001b[0m\u001b[0;34m\u001b[0m\u001b[0m\n\u001b[1;32m   1025\u001b[0m \u001b[0;34m\u001b[0m\u001b[0m\n\u001b[0;32m-> 1026\u001b[0;31m     \u001b[0;32mreturn\u001b[0m \u001b[0m_read\u001b[0m\u001b[0;34m(\u001b[0m\u001b[0mfilepath_or_buffer\u001b[0m\u001b[0;34m,\u001b[0m \u001b[0mkwds\u001b[0m\u001b[0;34m)\u001b[0m\u001b[0;34m\u001b[0m\u001b[0;34m\u001b[0m\u001b[0m\n\u001b[0m\u001b[1;32m   1027\u001b[0m \u001b[0;34m\u001b[0m\u001b[0m\n\u001b[1;32m   1028\u001b[0m \u001b[0;34m\u001b[0m\u001b[0m\n",
            "\u001b[0;32m/usr/local/lib/python3.11/dist-packages/pandas/io/parsers/readers.py\u001b[0m in \u001b[0;36m_read\u001b[0;34m(filepath_or_buffer, kwds)\u001b[0m\n\u001b[1;32m    618\u001b[0m \u001b[0;34m\u001b[0m\u001b[0m\n\u001b[1;32m    619\u001b[0m     \u001b[0;31m# Create the parser.\u001b[0m\u001b[0;34m\u001b[0m\u001b[0;34m\u001b[0m\u001b[0m\n\u001b[0;32m--> 620\u001b[0;31m     \u001b[0mparser\u001b[0m \u001b[0;34m=\u001b[0m \u001b[0mTextFileReader\u001b[0m\u001b[0;34m(\u001b[0m\u001b[0mfilepath_or_buffer\u001b[0m\u001b[0;34m,\u001b[0m \u001b[0;34m**\u001b[0m\u001b[0mkwds\u001b[0m\u001b[0;34m)\u001b[0m\u001b[0;34m\u001b[0m\u001b[0;34m\u001b[0m\u001b[0m\n\u001b[0m\u001b[1;32m    621\u001b[0m \u001b[0;34m\u001b[0m\u001b[0m\n\u001b[1;32m    622\u001b[0m     \u001b[0;32mif\u001b[0m \u001b[0mchunksize\u001b[0m \u001b[0;32mor\u001b[0m \u001b[0miterator\u001b[0m\u001b[0;34m:\u001b[0m\u001b[0;34m\u001b[0m\u001b[0;34m\u001b[0m\u001b[0m\n",
            "\u001b[0;32m/usr/local/lib/python3.11/dist-packages/pandas/io/parsers/readers.py\u001b[0m in \u001b[0;36m__init__\u001b[0;34m(self, f, engine, **kwds)\u001b[0m\n\u001b[1;32m   1618\u001b[0m \u001b[0;34m\u001b[0m\u001b[0m\n\u001b[1;32m   1619\u001b[0m         \u001b[0mself\u001b[0m\u001b[0;34m.\u001b[0m\u001b[0mhandles\u001b[0m\u001b[0;34m:\u001b[0m \u001b[0mIOHandles\u001b[0m \u001b[0;34m|\u001b[0m \u001b[0;32mNone\u001b[0m \u001b[0;34m=\u001b[0m \u001b[0;32mNone\u001b[0m\u001b[0;34m\u001b[0m\u001b[0;34m\u001b[0m\u001b[0m\n\u001b[0;32m-> 1620\u001b[0;31m         \u001b[0mself\u001b[0m\u001b[0;34m.\u001b[0m\u001b[0m_engine\u001b[0m \u001b[0;34m=\u001b[0m \u001b[0mself\u001b[0m\u001b[0;34m.\u001b[0m\u001b[0m_make_engine\u001b[0m\u001b[0;34m(\u001b[0m\u001b[0mf\u001b[0m\u001b[0;34m,\u001b[0m \u001b[0mself\u001b[0m\u001b[0;34m.\u001b[0m\u001b[0mengine\u001b[0m\u001b[0;34m)\u001b[0m\u001b[0;34m\u001b[0m\u001b[0;34m\u001b[0m\u001b[0m\n\u001b[0m\u001b[1;32m   1621\u001b[0m \u001b[0;34m\u001b[0m\u001b[0m\n\u001b[1;32m   1622\u001b[0m     \u001b[0;32mdef\u001b[0m \u001b[0mclose\u001b[0m\u001b[0;34m(\u001b[0m\u001b[0mself\u001b[0m\u001b[0;34m)\u001b[0m \u001b[0;34m->\u001b[0m \u001b[0;32mNone\u001b[0m\u001b[0;34m:\u001b[0m\u001b[0;34m\u001b[0m\u001b[0;34m\u001b[0m\u001b[0m\n",
            "\u001b[0;32m/usr/local/lib/python3.11/dist-packages/pandas/io/parsers/readers.py\u001b[0m in \u001b[0;36m_make_engine\u001b[0;34m(self, f, engine)\u001b[0m\n\u001b[1;32m   1878\u001b[0m                 \u001b[0;32mif\u001b[0m \u001b[0;34m\"b\"\u001b[0m \u001b[0;32mnot\u001b[0m \u001b[0;32min\u001b[0m \u001b[0mmode\u001b[0m\u001b[0;34m:\u001b[0m\u001b[0;34m\u001b[0m\u001b[0;34m\u001b[0m\u001b[0m\n\u001b[1;32m   1879\u001b[0m                     \u001b[0mmode\u001b[0m \u001b[0;34m+=\u001b[0m \u001b[0;34m\"b\"\u001b[0m\u001b[0;34m\u001b[0m\u001b[0;34m\u001b[0m\u001b[0m\n\u001b[0;32m-> 1880\u001b[0;31m             self.handles = get_handle(\n\u001b[0m\u001b[1;32m   1881\u001b[0m                 \u001b[0mf\u001b[0m\u001b[0;34m,\u001b[0m\u001b[0;34m\u001b[0m\u001b[0;34m\u001b[0m\u001b[0m\n\u001b[1;32m   1882\u001b[0m                 \u001b[0mmode\u001b[0m\u001b[0;34m,\u001b[0m\u001b[0;34m\u001b[0m\u001b[0;34m\u001b[0m\u001b[0m\n",
            "\u001b[0;32m/usr/local/lib/python3.11/dist-packages/pandas/io/common.py\u001b[0m in \u001b[0;36mget_handle\u001b[0;34m(path_or_buf, mode, encoding, compression, memory_map, is_text, errors, storage_options)\u001b[0m\n\u001b[1;32m    871\u001b[0m         \u001b[0;32mif\u001b[0m \u001b[0mioargs\u001b[0m\u001b[0;34m.\u001b[0m\u001b[0mencoding\u001b[0m \u001b[0;32mand\u001b[0m \u001b[0;34m\"b\"\u001b[0m \u001b[0;32mnot\u001b[0m \u001b[0;32min\u001b[0m \u001b[0mioargs\u001b[0m\u001b[0;34m.\u001b[0m\u001b[0mmode\u001b[0m\u001b[0;34m:\u001b[0m\u001b[0;34m\u001b[0m\u001b[0;34m\u001b[0m\u001b[0m\n\u001b[1;32m    872\u001b[0m             \u001b[0;31m# Encoding\u001b[0m\u001b[0;34m\u001b[0m\u001b[0;34m\u001b[0m\u001b[0m\n\u001b[0;32m--> 873\u001b[0;31m             handle = open(\n\u001b[0m\u001b[1;32m    874\u001b[0m                 \u001b[0mhandle\u001b[0m\u001b[0;34m,\u001b[0m\u001b[0;34m\u001b[0m\u001b[0;34m\u001b[0m\u001b[0m\n\u001b[1;32m    875\u001b[0m                 \u001b[0mioargs\u001b[0m\u001b[0;34m.\u001b[0m\u001b[0mmode\u001b[0m\u001b[0;34m,\u001b[0m\u001b[0;34m\u001b[0m\u001b[0;34m\u001b[0m\u001b[0m\n",
            "\u001b[0;31mFileNotFoundError\u001b[0m: [Errno 2] No such file or directory: 'emisiones-2016.csv'"
          ]
        }
      ]
    }
  ]
}